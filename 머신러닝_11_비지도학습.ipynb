{
 "cells": [
  {
   "cell_type": "markdown",
   "id": "4ea878f3",
   "metadata": {},
   "source": [
    "# 비지도 학습(Unsupervised Learning)\n",
    "- 라벨링이 되어 있지 않은 데이터 이용하는 학습 방법 - 클러스터링(clustering)"
   ]
  },
  {
   "cell_type": "markdown",
   "id": "454f742e",
   "metadata": {},
   "source": [
    "## k-평균 클러스터링(k-means clustering)\n",
    "- N개의 데이터를 K개의 클러스터로 나누는 클러스터링 기법\n",
    "- 각 데이터 포인트와 각 그룹 평균 간의 거리 구한 후 가장 가까운 클러스터로 배정함\n",
    "\n",
    "Steps:\n",
    "1) 그룹 평균 초기화\n",
    "2) 그룹 할당\n",
    "3) 평균 업데이트\n",
    "4) 반복\n",
    "\n",
    "- 사용하기 쉽다는 장점 있지만 가중치를 주지 않아 클러스터 간 데이터의 밀도 차이 있을 경우 클러스터링이 잘되지 않는 단점 존재\n",
    "- 초기 K값 사용자 지정"
   ]
  },
  {
   "cell_type": "code",
   "execution_count": 1,
   "id": "f0b033c2",
   "metadata": {},
   "outputs": [],
   "source": [
    "from sklearn.datasets import make_blobs\n",
    "X, y = make_blobs(n_samples=100, n_features=2, centers=5, random_state=10)"
   ]
  },
  {
   "cell_type": "code",
   "execution_count": 2,
   "id": "3172e226",
   "metadata": {},
   "outputs": [
    {
     "name": "stdout",
     "output_type": "stream",
     "text": [
      "(100, 2)\n",
      "(100,)\n"
     ]
    }
   ],
   "source": [
    "print(X.shape)\n",
    "print(y.shape)"
   ]
  },
  {
   "cell_type": "code",
   "execution_count": 3,
   "id": "12c55f53",
   "metadata": {},
   "outputs": [
    {
     "data": {
      "image/png": "[encoded data removed]",
      "text/plain": [
       "<Figure size 432x288 with 1 Axes>"
      ]
     },
     "metadata": {
      "needs_background": "light"
     },
     "output_type": "display_data"
    }
   ],
   "source": [
    "# 라벨링 되지 않은 데이터 플롯\n",
    "import matplotlib.pyplot as plt\n",
    "plt.scatter(X[:,0], X[:,1], c='gray', edgecolor='black', marker='o')\n",
    "plt.show()"
   ]
  },
  {
   "cell_type": "code",
   "execution_count": 5,
   "id": "2f3c2179",
   "metadata": {},
   "outputs": [],
   "source": [
    "# K-평균 클러스터링\n",
    "from sklearn.cluster import KMeans\n",
    "kmc = KMeans(n_clusters=5, init='random', max_iter=100, random_state=0)\n",
    "# n_clusters: 클러스터링 하려는 집단의 수\n",
    "# init: 첫 번째 평균값 어떻게 정할지\n",
    "# max_iter: 알고리즘의 최대 반복 횟수\n",
    "kmc.fit(X)\n",
    "label_kmc = kmc.labels_ # 적합된 모형에서 데이터 어떻게 클러스터링 했는지 확인 가능"
   ]
  },
  {
   "cell_type": "code",
   "execution_count": 6,
   "id": "5ca09d82",
   "metadata": {},
   "outputs": [
    {
     "data": {
      "text/html": [
       "<div>\n",
       "<style scoped>\n",
       "    .dataframe tbody tr th:only-of-type {\n",
       "        vertical-align: middle;\n",
       "    }\n",
       "\n",
       "    .dataframe tbody tr th {\n",
       "        vertical-align: top;\n",
       "    }\n",
       "\n",
       "    .dataframe thead th {\n",
       "        text-align: right;\n",
       "    }\n",
       "</style>\n",
       "<table border=\"1\" class=\"dataframe\">\n",
       "  <thead>\n",
       "    <tr style=\"text-align: right;\">\n",
       "      <th></th>\n",
       "      <th>kmc_comp1</th>\n",
       "      <th>kmc_comp2</th>\n",
       "      <th>target</th>\n",
       "      <th>label_kmc</th>\n",
       "    </tr>\n",
       "  </thead>\n",
       "  <tbody>\n",
       "    <tr>\n",
       "      <th>0</th>\n",
       "      <td>-5.577854</td>\n",
       "      <td>5.872988</td>\n",
       "      <td>3</td>\n",
       "      <td>2</td>\n",
       "    </tr>\n",
       "    <tr>\n",
       "      <th>1</th>\n",
       "      <td>1.627832</td>\n",
       "      <td>4.178069</td>\n",
       "      <td>1</td>\n",
       "      <td>4</td>\n",
       "    </tr>\n",
       "    <tr>\n",
       "      <th>2</th>\n",
       "      <td>-6.950884</td>\n",
       "      <td>-9.024594</td>\n",
       "      <td>4</td>\n",
       "      <td>3</td>\n",
       "    </tr>\n",
       "    <tr>\n",
       "      <th>3</th>\n",
       "      <td>-0.952769</td>\n",
       "      <td>-5.034316</td>\n",
       "      <td>2</td>\n",
       "      <td>1</td>\n",
       "    </tr>\n",
       "    <tr>\n",
       "      <th>4</th>\n",
       "      <td>6.550104</td>\n",
       "      <td>-7.912339</td>\n",
       "      <td>0</td>\n",
       "      <td>0</td>\n",
       "    </tr>\n",
       "  </tbody>\n",
       "</table>\n",
       "</div>"
      ],
      "text/plain": [
       "   kmc_comp1  kmc_comp2  target  label_kmc\n",
       "0  -5.577854   5.872988       3          2\n",
       "1   1.627832   4.178069       1          4\n",
       "2  -6.950884  -9.024594       4          3\n",
       "3  -0.952769  -5.034316       2          1\n",
       "4   6.550104  -7.912339       0          0"
      ]
     },
     "execution_count": 6,
     "metadata": {},
     "output_type": "execute_result"
    }
   ],
   "source": [
    "# 시각화를 위한 데이터 프레임 생성\n",
    "import pandas as pd\n",
    "kmc_columns = ['kmc_comp1', 'kmc_comp2']\n",
    "X_kmc_df = pd.DataFrame(X, columns=kmc_columns)\n",
    "X_kmc_df['target'] = y\n",
    "X_kmc_df['label_kmc'] = label_kmc\n",
    "X_kmc_df.head(5)"
   ]
  },
  {
   "cell_type": "code",
   "execution_count": 7,
   "id": "634a3d72",
   "metadata": {},
   "outputs": [
    {
     "name": "stdout",
     "output_type": "stream",
     "text": [
      "{0, 1, 2, 3, 4}\n",
      "{0, 1, 2, 3, 4}\n"
     ]
    }
   ],
   "source": [
    "# 타깃 클래스 종류 확인\n",
    "print(set(X_kmc_df['target']))\n",
    "print(set(X_kmc_df['label_kmc']))"
   ]
  },
  {
   "cell_type": "code",
   "execution_count": 8,
   "id": "5d6ea2a1",
   "metadata": {},
   "outputs": [
    {
     "data": {
      "image/png": "[encoded data removed]",
      "text/plain": [
       "<Figure size 432x288 with 1 Axes>"
      ]
     },
     "metadata": {
      "needs_background": "light"
     },
     "output_type": "display_data"
    }
   ],
   "source": [
    "# K-평균 클러스터링 이용한 데이터 플롯\n",
    "df = X_kmc_df\n",
    "markers=['o','x','^','s','*']\n",
    "\n",
    "for i, mark in enumerate(markers):\n",
    "    df_i = df[df['label_kmc']==i]\n",
    "    target_i = i\n",
    "    X1 = df_i['kmc_comp1']\n",
    "    X2 = df_i['kmc_comp2']\n",
    "    plt.scatter(X1, X2, marker=mark, label=target_i)\n",
    "    \n",
    "plt.xlabel('kmc_component1')\n",
    "plt.ylabel('kmc_component2')\n",
    "plt.legend()\n",
    "plt.show()"
   ]
  },
  {
   "cell_type": "code",
   "execution_count": 9,
   "id": "b414415c",
   "metadata": {},
   "outputs": [
    {
     "data": {
      "image/png": "[encoded data removed]",
      "text/plain": [
       "<Figure size 432x288 with 1 Axes>"
      ]
     },
     "metadata": {
      "needs_background": "light"
     },
     "output_type": "display_data"
    }
   ],
   "source": [
    "# 실제 타깃 플롯\n",
    "df = X_kmc_df\n",
    "markers=['o','x','^','s','*']\n",
    "\n",
    "for i, mark in enumerate(markers):\n",
    "    df_i = df[df['target']==i]\n",
    "    target_i = i\n",
    "    X1 = df_i['kmc_comp1']\n",
    "    X2 = df_i['kmc_comp2']\n",
    "    plt.scatter(X1, X2, marker=mark, label=target_i)\n",
    "    \n",
    "plt.xlabel('kmc_component1')\n",
    "plt.ylabel('kmc_component2')\n",
    "plt.legend()\n",
    "plt.show()"
   ]
  },
  {
   "cell_type": "code",
   "execution_count": 10,
   "id": "85b6e27e",
   "metadata": {},
   "outputs": [
    {
     "name": "stdout",
     "output_type": "stream",
     "text": [
      "0.7598181300128782\n"
     ]
    }
   ],
   "source": [
    "# 모형 평가\n",
    "from sklearn.metrics import silhouette_score\n",
    "sil_score = silhouette_score(X, label_kmc)\n",
    "print(sil_score)"
   ]
  },
  {
   "cell_type": "markdown",
   "id": "67c5ae2b",
   "metadata": {},
   "source": [
    "## 계층 클러스터링 (Hierarchical Clustering)\n",
    "- 병합 계층 클러스터링(agglomerative hierarchical clustering) \n",
    "> 개별 데이터 포인트를 하나의 클러스터로 설정하고 시작. 유사도 높은 경우 합침,\n",
    "> 처음에는 다수의 클러스터로 시작하지만 결국에는 데이터 셋 전체가 하나의 클러스터로 묶이는 방법\n",
    "- 분할 계층 클러스터링(divisive hierarchical clustering)\n",
    "> 전체 데이터 셋을 하나의 클러스터로 놓고 시작\n",
    "> 가장 멀리 떨어진 데이터를 다른 클러스터로 분리 -> 마지막에는 데이터 개수만큼의 클러스터\n",
    "\n",
    "- 덴드로그램(dendrogram)을 통해 시각화 가능\n",
    "- 클러스터 개수 미리 지정할 필요 X"
   ]
  },
  {
   "cell_type": "markdown",
   "id": "99a74b00",
   "metadata": {},
   "source": [
    "<병합 계층 클러스터링 연결 방법(linkage method)>\n",
    "- 단일 연결(single linnkage)\n",
    "-> 가장 가까운 거리에 있는 데이터 연결\n",
    "- 완전 연결(complete linkage)\n",
    "-> 클러스터 간 가장 비슷하지 않은 샘플 비교하여 합침\n",
    "- Ward's 계층 클러스터링\n",
    "-> 정보의 손실 최소화\n",
    "-> 오차 제곱합 최소화\n",
    "-> 클러스터 내에서 각 데이터 포인트가 클러스터 중심에서 얼마나 멀어져 있는지"
   ]
  },
  {
   "cell_type": "code",
   "execution_count": 11,
   "id": "0b09edbb",
   "metadata": {},
   "outputs": [
    {
     "name": "stdout",
     "output_type": "stream",
     "text": [
      "(10, 2)\n",
      "(10,)\n"
     ]
    }
   ],
   "source": [
    "# 데이터 생성\n",
    "from sklearn.datasets import make_blobs\n",
    "X, y = make_blobs(n_samples=10, n_features=2, random_state=0)\n",
    "\n",
    "# 생성된 데이터 차원 확인\n",
    "print(X.shape)\n",
    "print(y.shape)"
   ]
  },
  {
   "cell_type": "code",
   "execution_count": 12,
   "id": "cc2c8d0c",
   "metadata": {},
   "outputs": [
    {
     "name": "stdout",
     "output_type": "stream",
     "text": [
      "[8 9 6 4 5 2 7 3 1 0]\n"
     ]
    }
   ],
   "source": [
    "# 병합 계층 클러스터링\n",
    "from sklearn.cluster import AgglomerativeClustering\n",
    "aggc = AgglomerativeClustering(n_clusters=None, distance_threshold=0, linkage='complete')\n",
    "label_aggc = aggc.fit_predict(X)\n",
    "print(label_aggc)"
   ]
  },
  {
   "cell_type": "code",
   "execution_count": 13,
   "id": "00c66efd",
   "metadata": {},
   "outputs": [
    {
     "name": "stdout",
     "output_type": "stream",
     "text": [
      "[0 0 0 0 0 0 1 0 0 0]\n"
     ]
    }
   ],
   "source": [
    "# 클러스 2개로 병합\n",
    "aggc2 = AgglomerativeClustering(n_clusters=2, linkage='complete')\n",
    "label_aggc2 = aggc2.fit_predict(X)\n",
    "print(label_aggc2)"
   ]
  },
  {
   "cell_type": "code",
   "execution_count": 14,
   "id": "fd6dea9d",
   "metadata": {},
   "outputs": [
    {
     "name": "stdout",
     "output_type": "stream",
     "text": [
      "[0 0 2 0 0 0 1 2 2 0]\n"
     ]
    }
   ],
   "source": [
    "# 클러스터 3개로 병합\n",
    "aggc3 = AgglomerativeClustering(n_clusters=3, linkage='complete')\n",
    "label_aggc3 = aggc3.fit_predict(X)\n",
    "print(label_aggc3)"
   ]
  },
  {
   "cell_type": "code",
   "execution_count": 16,
   "id": "3df0d576",
   "metadata": {},
   "outputs": [
    {
     "data": {
      "image/png": "[encoded data removed]",
      "text/plain": [
       "<Figure size 432x288 with 1 Axes>"
      ]
     },
     "metadata": {
      "needs_background": "light"
     },
     "output_type": "display_data"
    }
   ],
   "source": [
    "# 덴드로그램 시각화\n",
    "from scipy.cluster.hierarchy import dendrogram\n",
    "from scipy.cluster.hierarchy import linkage\n",
    "import matplotlib.pyplot as plt\n",
    "\n",
    "linked = linkage(X, 'complete')\n",
    "labels = label_aggc\n",
    "dendrogram(linked, orientation='top', labels=labels, show_leaf_counts=True)\n",
    "plt.show()"
   ]
  },
  {
   "cell_type": "markdown",
   "id": "317cc486",
   "metadata": {},
   "source": [
    "## DBSCAN\n",
    "- Density-Based Spatial Clustering of Applications with Noise\n",
    "- 밀도 기반\n",
    "- 기본값은 유클리드 거리 사용, 클러스터 개수 사전에 정할 필요 X\n",
    "- 필수 요소: 반경(eps), 최소한의 데이터 포인트 개수(min_samples)\n",
    "- 핵심포인트(core point), 경계 포인트(border point, 핵심 포인트에서 eps 거리 내에 있는 포인트), 노이즈 포인트(noise point)\n",
    "- DBSCAN을 한 데이터 셋에 여러 번 실행하면 핵심 포인트의 클러스터는 항상 같고 매번 같은 포인트를 노이즈로 라벨링. 경계포인트는 depends on 포인트 방문하는 순서."
   ]
  },
  {
   "cell_type": "code",
   "execution_count": 17,
   "id": "dde9c1dd",
   "metadata": {},
   "outputs": [
    {
     "name": "stdout",
     "output_type": "stream",
     "text": [
      "(300, 2)\n",
      "(300,)\n"
     ]
    }
   ],
   "source": [
    "from sklearn.datasets import make_moons # 반달 모양 데이터 생성\n",
    "X, y = make_moons(n_samples=300, noise=0.05, random_state=0)\n",
    "\n",
    "print(X.shape)\n",
    "print(y.shape)"
   ]
  },
  {
   "cell_type": "code",
   "execution_count": 18,
   "id": "3451967c",
   "metadata": {},
   "outputs": [
    {
     "data": {
      "image/png": "[encoded data removed]",
      "text/plain": [
       "<Figure size 432x288 with 1 Axes>"
      ]
     },
     "metadata": {
      "needs_background": "light"
     },
     "output_type": "display_data"
    }
   ],
   "source": [
    "# 라벨링 되지 않은 데이터 플롯\n",
    "import matplotlib.pyplot as plt\n",
    "plt.scatter(X[:,0], X[:,1], c='gray', edgecolor='black', marker='o')\n",
    "plt.show()"
   ]
  },
  {
   "cell_type": "code",
   "execution_count": 19,
   "id": "ee6c691c",
   "metadata": {},
   "outputs": [
    {
     "name": "stdout",
     "output_type": "stream",
     "text": [
      "[0 0 1 0 0 1 0 0 1 1 0 1 0 0 1 1 0 1 0 0 0 1 1 1 0 1 0 0 0 0 1 1 1 1 0 0 0\n",
      " 0 0 1 0 1 1 1 1 1 0 1 1 1 1 0 0 1 1 0 0 1 0 0 1 1 1 0 0 0 0 1 1 1 0 0 0 1\n",
      " 1 0 1 1 0 1 1 0 0 0 0 1 0 0 0 0 0 1 0 0 0 0 1 1 0 1 0 0 1 0 1 0 0 0 0 0 0\n",
      " 0 1 1 0 1 0 0 1 1 1 1 1 1 1 1 0 0 0 1 1 0 1 1 1 0 0 0 1 0 1 1 0 1 0 1 1 1\n",
      " 1 0 0 1 0 0 0 1 1 1 0 1 0 1 1 0 1 1 1 0 1 0 0 1 0 1 0 0 1 0 0 1 1 1 0 0 1\n",
      " 1 0 1 0 1 0 0 1 0 1 1 1 0 1 0 0 0 1 1 1 1 0 1 0 1 0 1 1 1 0 1 0 1 0 0 0 1\n",
      " 1 0 1 0 1 1 0 0 1 0 1 1 0 1 1 1 1 1 0 0 1 1 1 0 0 1 1 1 1 1 0 0 1 1 1 0 1\n",
      " 1 0 0 0 0 0 1 1 1 0 0 0 1 0 0 1 0 0 1 0 1 1 0 0 0 0 1 0 1 1 1 0 0 0 1 0 0\n",
      " 0 1 1 0]\n"
     ]
    }
   ],
   "source": [
    "# DBSCAN\n",
    "from sklearn.cluster import DBSCAN\n",
    "dbs = DBSCAN(eps=0.2) # 최소 샘플 개수 default=5\n",
    "dbs.fit(X)\n",
    "label_dbs = dbs.labels_\n",
    "print(label_dbs)"
   ]
  },
  {
   "cell_type": "code",
   "execution_count": 20,
   "id": "cf26423c",
   "metadata": {},
   "outputs": [
    {
     "data": {
      "text/html": [
       "<div>\n",
       "<style scoped>\n",
       "    .dataframe tbody tr th:only-of-type {\n",
       "        vertical-align: middle;\n",
       "    }\n",
       "\n",
       "    .dataframe tbody tr th {\n",
       "        vertical-align: top;\n",
       "    }\n",
       "\n",
       "    .dataframe thead th {\n",
       "        text-align: right;\n",
       "    }\n",
       "</style>\n",
       "<table border=\"1\" class=\"dataframe\">\n",
       "  <thead>\n",
       "    <tr style=\"text-align: right;\">\n",
       "      <th></th>\n",
       "      <th>dbs_comp1</th>\n",
       "      <th>dbs_comp2</th>\n",
       "      <th>target</th>\n",
       "      <th>label_dbs</th>\n",
       "    </tr>\n",
       "  </thead>\n",
       "  <tbody>\n",
       "    <tr>\n",
       "      <th>0</th>\n",
       "      <td>0.715413</td>\n",
       "      <td>-0.494089</td>\n",
       "      <td>1</td>\n",
       "      <td>0</td>\n",
       "    </tr>\n",
       "    <tr>\n",
       "      <th>1</th>\n",
       "      <td>0.246789</td>\n",
       "      <td>-0.240091</td>\n",
       "      <td>1</td>\n",
       "      <td>0</td>\n",
       "    </tr>\n",
       "    <tr>\n",
       "      <th>2</th>\n",
       "      <td>0.943261</td>\n",
       "      <td>0.346800</td>\n",
       "      <td>0</td>\n",
       "      <td>1</td>\n",
       "    </tr>\n",
       "    <tr>\n",
       "      <th>3</th>\n",
       "      <td>0.973742</td>\n",
       "      <td>-0.492901</td>\n",
       "      <td>1</td>\n",
       "      <td>0</td>\n",
       "    </tr>\n",
       "    <tr>\n",
       "      <th>4</th>\n",
       "      <td>1.239713</td>\n",
       "      <td>-0.411411</td>\n",
       "      <td>1</td>\n",
       "      <td>0</td>\n",
       "    </tr>\n",
       "  </tbody>\n",
       "</table>\n",
       "</div>"
      ],
      "text/plain": [
       "   dbs_comp1  dbs_comp2  target  label_dbs\n",
       "0   0.715413  -0.494089       1          0\n",
       "1   0.246789  -0.240091       1          0\n",
       "2   0.943261   0.346800       0          1\n",
       "3   0.973742  -0.492901       1          0\n",
       "4   1.239713  -0.411411       1          0"
      ]
     },
     "execution_count": 20,
     "metadata": {},
     "output_type": "execute_result"
    }
   ],
   "source": [
    "# 시각화를 위한 데이터프레임 생성\n",
    "import pandas as pd\n",
    "dbs_columns = ['dbs_comp1', 'dbs_comp2']\n",
    "X_dbs_df = pd.DataFrame(X, columns=dbs_columns)\n",
    "X_dbs_df['target'] = y\n",
    "X_dbs_df['label_dbs'] = label_dbs\n",
    "X_dbs_df.head()"
   ]
  },
  {
   "cell_type": "code",
   "execution_count": 21,
   "id": "b3f7c8e3",
   "metadata": {},
   "outputs": [
    {
     "name": "stdout",
     "output_type": "stream",
     "text": [
      "{0, 1}\n",
      "{0, 1}\n"
     ]
    }
   ],
   "source": [
    "# 타깃 클래스 종류 확인\n",
    "print(set(X_dbs_df['target']))\n",
    "print(set(X_dbs_df['label_dbs']))"
   ]
  },
  {
   "cell_type": "code",
   "execution_count": 24,
   "id": "13880f0d",
   "metadata": {},
   "outputs": [
    {
     "data": {
      "image/png": "[encoded data removed]",
      "text/plain": [
       "<Figure size 432x288 with 1 Axes>"
      ]
     },
     "metadata": {
      "needs_background": "light"
     },
     "output_type": "display_data"
    }
   ],
   "source": [
    "# DBSCAN을 이용한 데이터 플롯\n",
    "df = X_dbs_df\n",
    "markers=['o', 'x']\n",
    "\n",
    "for i, mark in enumerate(markers):\n",
    "    df_i = df[df['label_dbs']==i]\n",
    "    target_i = i\n",
    "    X1 = df_i['dbs_comp1']\n",
    "    X2 = df_i['dbs_comp2']\n",
    "    plt.scatter(X1, X2, marker=mark, label=target_i)\n",
    "plt.xlabel('dbs_component1')\n",
    "plt.ylabel('dbs_component2')\n",
    "plt.legend()\n",
    "plt.show()"
   ]
  },
  {
   "cell_type": "code",
   "execution_count": 25,
   "id": "714d8461",
   "metadata": {},
   "outputs": [
    {
     "data": {
      "image/png": "[encoded data removed]",
      "text/plain": [
       "<Figure size 432x288 with 1 Axes>"
      ]
     },
     "metadata": {
      "needs_background": "light"
     },
     "output_type": "display_data"
    }
   ],
   "source": [
    "# 실제 타깃 플롯\n",
    "df = X_dbs_df\n",
    "markers=['o', 'x']\n",
    "\n",
    "for i, mark in enumerate(markers):\n",
    "    df_i = df[df['target']==i]\n",
    "    target_i = i\n",
    "    X1 = df_i['dbs_comp1']\n",
    "    X2 = df_i['dbs_comp2']\n",
    "    plt.scatter(X1, X2, marker=mark, label=target_i)\n",
    "plt.xlabel('dbs_component1')\n",
    "plt.ylabel('dbs_component2')\n",
    "plt.legend()\n",
    "plt.show()"
   ]
  },
  {
   "cell_type": "code",
   "execution_count": 26,
   "id": "43028a53",
   "metadata": {},
   "outputs": [
    {
     "name": "stdout",
     "output_type": "stream",
     "text": [
      "0.3284782012631504\n"
     ]
    }
   ],
   "source": [
    "# 모형 평가\n",
    "from sklearn.metrics import silhouette_score\n",
    "sil_score = silhouette_score(X, label_dbs)\n",
    "print(sil_score)"
   ]
  },
  {
   "cell_type": "markdown",
   "id": "188daedd",
   "metadata": {},
   "source": [
    "## 가우시안 혼합 모형 (Gaussian Mixture Model)\n",
    "- 전체 집단 내부에 속한 하위 집단의 존재를 가정한 확률 모델\n",
    "- 전체 집단의 확률 분포는 가우시안 분포 (정규분포)\n",
    "- 3개 파라미터: 평균, 표준편차, 전체 분포에 대한 해당 하위 분포의 비율(해당 데이터가 하위 집단에 속할 확률)"
   ]
  },
  {
   "cell_type": "markdown",
   "id": "be070147",
   "metadata": {},
   "source": [
    "### EM 알고리즘\n",
    "E-step과 M-step을 반복하여 로그 가능도 함수 증가시키는 방법,\n",
    "파라미터 추정에 사용"
   ]
  },
  {
   "cell_type": "code",
   "execution_count": 28,
   "id": "270e44e9",
   "metadata": {},
   "outputs": [],
   "source": [
    "# 데이터 생성\n",
    "from sklearn.datasets import make_blobs\n",
    "X, y = make_blobs(n_samples=200, n_features=2, centers=2, random_state=2)"
   ]
  },
  {
   "cell_type": "code",
   "execution_count": 29,
   "id": "d69c0573",
   "metadata": {},
   "outputs": [
    {
     "data": {
      "image/png": "[encoded data removed]",
      "text/plain": [
       "<Figure size 432x288 with 1 Axes>"
      ]
     },
     "metadata": {
      "needs_background": "light"
     },
     "output_type": "display_data"
    }
   ],
   "source": [
    "# 라벨링되지 않은 데이터 플롯\n",
    "import matplotlib.pyplot as plt\n",
    "plt.scatter(X[:,0], X[:,1], c='gray', edgecolor='black', marker='o')\n",
    "plt.show()"
   ]
  },
  {
   "cell_type": "code",
   "execution_count": 30,
   "id": "57da2ab9",
   "metadata": {},
   "outputs": [
    {
     "name": "stdout",
     "output_type": "stream",
     "text": [
      "[1 0 1 1 0 1 0 0 1 0 1 0 0 1 0 1 1 1 1 1 1 0 1 1 1 1 0 1 1 0 0 0 1 0 0 1 0\n",
      " 1 1 0 1 0 1 1 0 0 0 0 0 1 0 1 0 0 1 1 1 0 1 0 1 0 1 0 0 1 0 0 1 1 1 0 0 1\n",
      " 0 1 1 1 1 0 1 0 0 0 0 1 1 0 1 1 0 0 0 0 1 0 1 1 1 0 0 1 0 0 1 0 0 0 1 0 0\n",
      " 1 1 1 1 0 1 1 1 1 1 1 0 0 0 1 0 0 1 1 1 0 0 1 0 0 0 0 1 1 0 1 1 0 0 0 0 1\n",
      " 1 0 1 0 1 1 0 0 1 1 0 0 1 1 1 0 0 1 1 0 0 1 1 0 0 0 0 0 1 1 0 1 0 1 0 1 1\n",
      " 0 0 1 0 0 1 1 0 1 1 0 0 0 1 0]\n"
     ]
    }
   ],
   "source": [
    "# 가우시안 혼합 모형\n",
    "from sklearn.mixture import GaussianMixture\n",
    "gmm = GaussianMixture(n_components=2, random_state=0)\n",
    "gmm.fit(X)\n",
    "label_gmm = gmm.predict(X)\n",
    "print(label_gmm)"
   ]
  },
  {
   "cell_type": "code",
   "execution_count": 31,
   "id": "8cdae42a",
   "metadata": {},
   "outputs": [
    {
     "data": {
      "text/html": [
       "<div>\n",
       "<style scoped>\n",
       "    .dataframe tbody tr th:only-of-type {\n",
       "        vertical-align: middle;\n",
       "    }\n",
       "\n",
       "    .dataframe tbody tr th {\n",
       "        vertical-align: top;\n",
       "    }\n",
       "\n",
       "    .dataframe thead th {\n",
       "        text-align: right;\n",
       "    }\n",
       "</style>\n",
       "<table border=\"1\" class=\"dataframe\">\n",
       "  <thead>\n",
       "    <tr style=\"text-align: right;\">\n",
       "      <th></th>\n",
       "      <th>gmm_comp1</th>\n",
       "      <th>gmm_comp2</th>\n",
       "      <th>target</th>\n",
       "      <th>label_gmm</th>\n",
       "    </tr>\n",
       "  </thead>\n",
       "  <tbody>\n",
       "    <tr>\n",
       "      <th>0</th>\n",
       "      <td>0.381155</td>\n",
       "      <td>-1.644815</td>\n",
       "      <td>1</td>\n",
       "      <td>1</td>\n",
       "    </tr>\n",
       "    <tr>\n",
       "      <th>1</th>\n",
       "      <td>-0.583904</td>\n",
       "      <td>-8.784059</td>\n",
       "      <td>0</td>\n",
       "      <td>0</td>\n",
       "    </tr>\n",
       "    <tr>\n",
       "      <th>2</th>\n",
       "      <td>1.830865</td>\n",
       "      <td>-1.425235</td>\n",
       "      <td>1</td>\n",
       "      <td>1</td>\n",
       "    </tr>\n",
       "    <tr>\n",
       "      <th>3</th>\n",
       "      <td>1.813135</td>\n",
       "      <td>-1.924671</td>\n",
       "      <td>1</td>\n",
       "      <td>1</td>\n",
       "    </tr>\n",
       "    <tr>\n",
       "      <th>4</th>\n",
       "      <td>-1.655771</td>\n",
       "      <td>-9.555946</td>\n",
       "      <td>0</td>\n",
       "      <td>0</td>\n",
       "    </tr>\n",
       "  </tbody>\n",
       "</table>\n",
       "</div>"
      ],
      "text/plain": [
       "   gmm_comp1  gmm_comp2  target  label_gmm\n",
       "0   0.381155  -1.644815       1          1\n",
       "1  -0.583904  -8.784059       0          0\n",
       "2   1.830865  -1.425235       1          1\n",
       "3   1.813135  -1.924671       1          1\n",
       "4  -1.655771  -9.555946       0          0"
      ]
     },
     "execution_count": 31,
     "metadata": {},
     "output_type": "execute_result"
    }
   ],
   "source": [
    "# 시각화를 위한 데이터 프레임 생성\n",
    "import pandas as pd\n",
    "gmm_columns = ['gmm_comp1', 'gmm_comp2']\n",
    "X_gmm_df = pd.DataFrame(X, columns=gmm_columns)\n",
    "X_gmm_df['target'] = y\n",
    "X_gmm_df['label_gmm'] = label_gmm\n",
    "X_gmm_df.head()"
   ]
  },
  {
   "cell_type": "code",
   "execution_count": 32,
   "id": "37fee4ba",
   "metadata": {},
   "outputs": [
    {
     "data": {
      "image/png": "[encoded data removed]",
      "text/plain": [
       "<Figure size 432x288 with 1 Axes>"
      ]
     },
     "metadata": {
      "needs_background": "light"
     },
     "output_type": "display_data"
    }
   ],
   "source": [
    "# 가우시안 혼합 모형을 이용한 데이터 플롯\n",
    "df = X_gmm_df\n",
    "markers=['o', 'x']\n",
    "\n",
    "for i, mark in enumerate(markers):\n",
    "    df_i = df[df['label_gmm']==i]\n",
    "    target_i = i\n",
    "    X1 = df_i['gmm_comp1']\n",
    "    X2 = df_i['gmm_comp2']\n",
    "    plt.scatter(X1, X2, marker=mark, label=target_i)\n",
    "plt.xlabel('gmm_component1')\n",
    "plt.ylabel('gmm_component2')\n",
    "plt.legend()\n",
    "plt.show()"
   ]
  },
  {
   "cell_type": "code",
   "execution_count": 33,
   "id": "e0cac865",
   "metadata": {},
   "outputs": [
    {
     "name": "stdout",
     "output_type": "stream",
     "text": [
      "0.7842908753561848\n"
     ]
    }
   ],
   "source": [
    "# 모형 평가\n",
    "from sklearn.metrics import silhouette_score\n",
    "sil_score = silhouette_score(X, label_gmm)\n",
    "print(sil_score)"
   ]
  },
  {
   "cell_type": "code",
   "execution_count": null,
   "id": "b73b7d3f",
   "metadata": {},
   "outputs": [],
   "source": []
  }
 ],
 "metadata": {
  "kernelspec": {
   "display_name": "Python 3 (ipykernel)",
   "language": "python",
   "name": "python3"
  },
  "language_info": {
   "codemirror_mode": {
    "name": "ipython",
    "version": 3
   },
   "file_extension": ".py",
   "mimetype": "text/x-python",
   "name": "python",
   "nbconvert_exporter": "python",
   "pygments_lexer": "ipython3",
   "version": "3.9.7"
  }
 },
 "nbformat": 4,
 "nbformat_minor": 5
}
