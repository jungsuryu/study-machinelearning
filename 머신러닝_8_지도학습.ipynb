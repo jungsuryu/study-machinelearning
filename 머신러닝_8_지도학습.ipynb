{
 "cells": [
  {
   "cell_type": "markdown",
   "id": "9c7228dd",
   "metadata": {},
   "source": [
    "# 지도학습\n",
    "- 분류문제 (classification): 범주형 종속변수\n",
    "- 회귀문제 (regression): 연속형 종속변수"
   ]
  },
  {
   "cell_type": "markdown",
   "id": "a59a901d",
   "metadata": {},
   "source": [
    "## k-최근접 이웃 (k-Nearest Neighbor) 알고리즘\n",
    "- 비교 대상이 되는 데이터 포인트 주변에 가장 가까이 존재하는 k개의 데이터와 비교해 가장 가까운 데이터 종류로 판별\n",
    "- 판별 결과는 k값에 따라 달라짐\n",
    "- 타깃이 연속형 숫자인 경우에는 주변 k개의 데이터의 평균값으로 예측하는 방법 사용\n",
    "- 학습 과정에서 게으른 학습(lazy learning) 방법 사용"
   ]
  },
  {
   "cell_type": "code",
   "execution_count": 1,
   "id": "feb7b396",
   "metadata": {},
   "outputs": [],
   "source": [
    "# 데이터 불러오기\n",
    "from sklearn import datasets\n",
    "raw_iris = datasets.load_iris()"
   ]
  },
  {
   "cell_type": "code",
   "execution_count": 2,
   "id": "9f80c893",
   "metadata": {},
   "outputs": [],
   "source": [
    "# 피처/타깃 데이터 지정\n",
    "X = raw_iris.data\n",
    "y = raw_iris.target"
   ]
  },
  {
   "cell_type": "code",
   "execution_count": 3,
   "id": "76f7a05d",
   "metadata": {},
   "outputs": [],
   "source": [
    "# 트레이닝/ 테스트 데이터 분할\n",
    "from sklearn.model_selection import train_test_split\n",
    "X_tn, X_te, y_tn, y_te = train_test_split(X, y, random_state=0)"
   ]
  },
  {
   "cell_type": "code",
   "execution_count": 5,
   "id": "a2c386e7",
   "metadata": {},
   "outputs": [],
   "source": [
    "# 데이터 표준화\n",
    "from sklearn.preprocessing import StandardScaler\n",
    "std_scale = StandardScaler()\n",
    "std_scale.fit(X_tn)\n",
    "X_tn_std = std_scale.transform(X_tn)\n",
    "X_te_std = std_scale.transform(X_te)"
   ]
  },
  {
   "cell_type": "code",
   "execution_count": 6,
   "id": "4615b433",
   "metadata": {},
   "outputs": [
    {
     "data": {
      "text/plain": [
       "KNeighborsClassifier()"
      ]
     },
     "execution_count": 6,
     "metadata": {},
     "output_type": "execute_result"
    }
   ],
   "source": [
    "# 데이터 학습\n",
    "from sklearn.neighbors import KNeighborsClassifier\n",
    "clf_knn = KNeighborsClassifier()\n",
    "clf_knn.fit(X_tn_std, y_tn)"
   ]
  },
  {
   "cell_type": "code",
   "execution_count": 7,
   "id": "60dcd36f",
   "metadata": {},
   "outputs": [
    {
     "name": "stdout",
     "output_type": "stream",
     "text": [
      "[2 1 0 2 0 2 0 1 1 1 2 1 1 1 1 0 1 1 0 0 2 1 0 0 2 0 0 1 1 0 2 1 0 2 2 1 0\n",
      " 2]\n"
     ]
    }
   ],
   "source": [
    "# 데이터 예측\n",
    "knn_pred = clf_knn.predict(X_te_std)\n",
    "print(knn_pred)"
   ]
  },
  {
   "cell_type": "code",
   "execution_count": 8,
   "id": "2f07b8e1",
   "metadata": {},
   "outputs": [
    {
     "name": "stdout",
     "output_type": "stream",
     "text": [
      "0.9736842105263158\n"
     ]
    }
   ],
   "source": [
    "# 정확도 평가\n",
    "from sklearn.metrics import accuracy_score\n",
    "accuracy = accuracy_score(y_te, knn_pred)\n",
    "print(accuracy)"
   ]
  },
  {
   "cell_type": "code",
   "execution_count": 9,
   "id": "a87944be",
   "metadata": {},
   "outputs": [
    {
     "name": "stdout",
     "output_type": "stream",
     "text": [
      "[[13  0  0]\n",
      " [ 0 15  1]\n",
      " [ 0  0  9]]\n"
     ]
    }
   ],
   "source": [
    "# confusion matrix 확인\n",
    "from sklearn.metrics import confusion_matrix\n",
    "conf_matrix = confusion_matrix(y_te, knn_pred) # 실제 타깃값과 예측값 넣어줌\n",
    "print(conf_matrix)"
   ]
  },
  {
   "cell_type": "code",
   "execution_count": 10,
   "id": "9a778d77",
   "metadata": {},
   "outputs": [
    {
     "name": "stdout",
     "output_type": "stream",
     "text": [
      "              precision    recall  f1-score   support\n",
      "\n",
      "           0       1.00      1.00      1.00        13\n",
      "           1       1.00      0.94      0.97        16\n",
      "           2       0.90      1.00      0.95         9\n",
      "\n",
      "    accuracy                           0.97        38\n",
      "   macro avg       0.97      0.98      0.97        38\n",
      "weighted avg       0.98      0.97      0.97        38\n",
      "\n"
     ]
    }
   ],
   "source": [
    "# 분류 리포트 확인\n",
    "from sklearn.metrics import classification_report\n",
    "class_report = classification_report(y_te, knn_pred)\n",
    "print(class_report)"
   ]
  },
  {
   "cell_type": "markdown",
   "id": "33f2dcd2",
   "metadata": {},
   "source": [
    "## 선형 회귀 분석 (linear regression)\n",
    "- feature 데이터와 target 데이터 간의 선형 관게 파악하는 알고리즘\n",
    "- 가중치 w 구해야 (y=wx+b)\n",
    "- 각 가중치 요소 하나하나 = 파라미터, 파라미터 값에 따라 예측값 달라짐\n",
    "- 최소제곱법 통해 구함"
   ]
  },
  {
   "cell_type": "markdown",
   "id": "bb607a99",
   "metadata": {},
   "source": [
    "### 릿지 회귀 분석 (L2 제약식) - ridge regression\n",
    "- 제약식: 제곱의 형태\n",
    "- 람다: penalty strength\n",
    "> - 계수(coefficient)의 사이즈 조절\n",
    "> - 정규식의 크기(amount) 조절\n",
    "> - 0에 가까워질수록 최소 제곱 추정량(least squared estimator)에 가까워짐\n",
    "> - 무한대에 가까워질수록 릿지 해는 0에 가까워짐. 즉, 상수항(intercept)만 남은 모형에 가까워짐"
   ]
  },
  {
   "cell_type": "markdown",
   "id": "56fdc0bc",
   "metadata": {},
   "source": [
    "##### 릿치 추정량의 편향성\n",
    "- 릿지 회귀 분석의 성질: 편향 존재 (bias)\n",
    "- 즉, 릿지 추정량의 기댓값은 실제 파라미터(parameter)와 동일하지 않음"
   ]
  },
  {
   "cell_type": "markdown",
   "id": "b65e48da",
   "metadata": {},
   "source": [
    "### 라쏘 회귀 분석 (L1 제약식) - lasso regression\n",
    "- 제약식: 절댓값의 형태\n",
    "- 라쏘 추정량은 w1=0인 부분 -> 변수 선택(variable selection)에 사용될 수 있음\n",
    "- 릿지 회귀 분석과 달리 라쏘 추정량은 확실한 형태가 존재하지 않음 (closed form solution)"
   ]
  },
  {
   "cell_type": "markdown",
   "id": "444db2cf",
   "metadata": {},
   "source": [
    "##### 제약식의 일반화 표현"
   ]
  },
  {
   "cell_type": "markdown",
   "id": "4f1e62e6",
   "metadata": {},
   "source": [
    "### 엘라스틱 넷 (Elastic Net)\n",
    "- ridge + lasso"
   ]
  },
  {
   "cell_type": "code",
   "execution_count": 11,
   "id": "2c224692",
   "metadata": {},
   "outputs": [],
   "source": [
    "# 데이터 불러오기 (보스턴 집값 데이터 예측)\n",
    "from sklearn import datasets\n",
    "raw_boston = datasets.load_boston()\n",
    "\n",
    "# 피처, 타깃 데이터 지정\n",
    "X = raw_boston.data\n",
    "y = raw_boston.target\n",
    "\n",
    "# 트레이닝/테스트 데이터 분할\n",
    "from sklearn.model_selection import train_test_split\n",
    "X_tn, X_te, y_tn, y_te = train_test_split(X, y, random_state=1)\n",
    "\n",
    "# 데이터 표준화\n",
    "from sklearn.preprocessing import StandardScaler\n",
    "std_scaler = StandardScaler()\n",
    "std_scaler.fit(X_tn)\n",
    "X_tn_std = std_scaler.transform(X_tn)\n",
    "X_te_std = std_scaler.transform(X_te)"
   ]
  },
  {
   "cell_type": "code",
   "execution_count": 13,
   "id": "83c89140",
   "metadata": {},
   "outputs": [
    {
     "data": {
      "text/plain": [
       "LinearRegression()"
      ]
     },
     "execution_count": 13,
     "metadata": {},
     "output_type": "execute_result"
    }
   ],
   "source": [
    "# 데이터 학습\n",
    "from sklearn.linear_model import LinearRegression\n",
    "clf_lr = LinearRegression()\n",
    "clf_lr.fit(X_tn_std, y_tn)"
   ]
  },
  {
   "cell_type": "code",
   "execution_count": 14,
   "id": "5db0cd71",
   "metadata": {},
   "outputs": [
    {
     "name": "stdout",
     "output_type": "stream",
     "text": [
      "[-1.07145146  1.34036243  0.26298069  0.66554537 -2.49842551  1.97524314\n",
      "  0.19516605 -3.14274974  2.66736136 -1.80685572 -2.13034748  0.56172933\n",
      " -4.03223518]\n",
      "22.344591029023768\n"
     ]
    }
   ],
   "source": [
    "# 선형 회귀 분석 계수, 상수항 확인\n",
    "print(clf_lr.coef_)\n",
    "print(clf_lr.intercept_)"
   ]
  },
  {
   "cell_type": "code",
   "execution_count": 15,
   "id": "193f858c",
   "metadata": {},
   "outputs": [
    {
     "name": "stdout",
     "output_type": "stream",
     "text": [
      "[-1.05933451  1.31050717  0.23022789  0.66955241 -2.45607567  1.99086611\n",
      "  0.18119169 -3.09919804  2.56480813 -1.71116799 -2.12002592  0.56264409\n",
      " -4.00942448]\n",
      "22.344591029023768\n"
     ]
    }
   ],
   "source": [
    "# 데이터 학습 (L2 제약식 적용, 릿지 회귀 분석)\n",
    "from sklearn.linear_model import Ridge\n",
    "clf_ridge = Ridge(alpha=1) # alpha 값은 반드시 양수(positive)여야 하며, 값이 클수록 강한 제약식을 의미 (기본값 1로 설정되어 있음)\n",
    "clf_ridge.fit(X_tn_std, y_tn)\n",
    "\n",
    "# 릿지 회귀 분석 계수, 상수항 확인\n",
    "print(clf_ridge.coef_)\n",
    "print(clf_ridge.intercept_)"
   ]
  },
  {
   "cell_type": "code",
   "execution_count": 17,
   "id": "1d9f2943",
   "metadata": {},
   "outputs": [
    {
     "name": "stdout",
     "output_type": "stream",
     "text": [
      "[-1.04326518  1.27752711  0.1674367   0.66758228 -2.41559964  1.99244179\n",
      "  0.14733958 -3.09473711  2.46431135 -1.60552274 -2.11046422  0.55200229\n",
      " -4.00809905]\n",
      "22.344591029023768\n"
     ]
    }
   ],
   "source": [
    "# 데이터 학습 (L1 제약식 적용, 라쏘 회귀 분석)\n",
    "from sklearn.linear_model import Lasso\n",
    "clf_lasso = Lasso(alpha=0.01) # alpha 값은 제약의 정도를 나타내며 1을 디폴트 값으로 가짐\n",
    "clf_lasso.fit(X_tn_std, y_tn)\n",
    "\n",
    "# 라쏘 회귀 분석 계수, 상수항 확인\n",
    "print(clf_lasso.coef_)\n",
    "print(clf_lasso.intercept_)"
   ]
  },
  {
   "cell_type": "code",
   "execution_count": 19,
   "id": "e0d8c19b",
   "metadata": {},
   "outputs": [
    {
     "name": "stdout",
     "output_type": "stream",
     "text": [
      "[-1.02916603  1.23681955  0.15236504  0.67859622 -2.34646781  2.02965524\n",
      "  0.14575132 -2.98592423  2.32013379 -1.48829485 -2.09271972  0.56506801\n",
      " -3.9495281 ]\n",
      "22.344591029023768\n"
     ]
    }
   ],
   "source": [
    "# 데이터 학습 (엘라스틱 넷)\n",
    "from sklearn.linear_model import ElasticNet\n",
    "clf_elastic = ElasticNet(alpha=0.01, l1_ratio=0.01) \n",
    "# alpha 값은 L1 제약식과 L2 제약식의 크기의 합, l1_ratio는 전체 제약의 크기인 alpha 값에서 L1 제약이 차지하는 비율 의미\n",
    "clf_elastic.fit(X_tn_std, y_tn)\n",
    "\n",
    "# 엘라스틱 넷 계수, 상수항 확인\n",
    "print(clf_elastic.coef_)\n",
    "print(clf_elastic.intercept_)"
   ]
  },
  {
   "cell_type": "code",
   "execution_count": 20,
   "id": "90147540",
   "metadata": {},
   "outputs": [],
   "source": [
    "# 데이터 예측\n",
    "pred_lr = clf_lr.predict(X_te_std)\n",
    "pred_ridge = clf_ridge.predict(X_te_std)\n",
    "pred_lasso = clf_lasso.predict(X_te_std)\n",
    "pred_elastic = clf_elastic.predict(X_te_std)"
   ]
  },
  {
   "cell_type": "code",
   "execution_count": 21,
   "id": "96e8b929",
   "metadata": {},
   "outputs": [
    {
     "name": "stdout",
     "output_type": "stream",
     "text": [
      "0.7789410172622858\n",
      "0.7789704562726605\n",
      "0.7787621490259894\n",
      "0.7787876079239252\n"
     ]
    }
   ],
   "source": [
    "# 모형 평가 - R 제곱값 (0과 1 사잇값 가지며 높을수록 좋은 성능 의미)\n",
    "from sklearn.metrics import r2_score\n",
    "print(r2_score(y_te, pred_lr))\n",
    "print(r2_score(y_te, pred_ridge))\n",
    "print(r2_score(y_te, pred_lasso))\n",
    "print(r2_score(y_te, pred_elastic))"
   ]
  },
  {
   "cell_type": "code",
   "execution_count": 22,
   "id": "cbb0035b",
   "metadata": {},
   "outputs": [
    {
     "name": "stdout",
     "output_type": "stream",
     "text": [
      "21.89776539604949\n",
      "21.894849212618745\n",
      "21.91548381050483\n",
      "21.912961890936874\n"
     ]
    }
   ],
   "source": [
    "# 모형 평가 - MSE (작을수록 좋은 성능 의미)\n",
    "from sklearn.metrics import mean_squared_error\n",
    "print(mean_squared_error(y_te, pred_lr))\n",
    "print(mean_squared_error(y_te, pred_ridge))\n",
    "print(mean_squared_error(y_te, pred_lasso))\n",
    "print(mean_squared_error(y_te, pred_elastic))"
   ]
  },
  {
   "cell_type": "markdown",
   "id": "0cb4472c",
   "metadata": {},
   "source": [
    "## 로지스틱 회귀 분석\n",
    "- 분류 문제\n",
    "- 시그모이드 함수 형태\n",
    "- y축 값이 0과 1로 제한되어 있음\n",
    "- 가중치의 부호에 따라 로지스틱 회귀 모형의 형태가 달라짐"
   ]
  },
  {
   "cell_type": "code",
   "execution_count": 23,
   "id": "94a10028",
   "metadata": {},
   "outputs": [],
   "source": [
    "# 데이터 불러오기 (유방암 예측하기)\n",
    "from sklearn import datasets\n",
    "raw_cancer = datasets.load_breast_cancer()\n",
    "\n",
    "# 피처, 타깃 데이터 지정\n",
    "X = raw_cancer.data\n",
    "y = raw_cancer.target\n",
    "\n",
    "# 트레이닝/테스트 데이터 분할\n",
    "X_tn, X_te, y_tn, y_te = train_test_split(X, y, random_state=0)\n",
    "\n",
    "# 데이터 표준화\n",
    "from sklearn.preprocessing import StandardScaler\n",
    "std_scale = StandardScaler()\n",
    "std_scale.fit(X_tn)\n",
    "X_tn_std = std_scale.transform(X_tn)\n",
    "X_te_std = std_scale.transform(X_te)"
   ]
  },
  {
   "cell_type": "code",
   "execution_count": 24,
   "id": "6a740dd7",
   "metadata": {},
   "outputs": [
    {
     "data": {
      "text/plain": [
       "LogisticRegression()"
      ]
     },
     "execution_count": 24,
     "metadata": {},
     "output_type": "execute_result"
    }
   ],
   "source": [
    "# 데이터 학습\n",
    "from sklearn.linear_model import LogisticRegression\n",
    "clf_logi_l2 = LogisticRegression(penalty='l2') \n",
    "# 선형 회귀 분석과 마찬가지로 제약식 적용할 수 있음. l1, l2, elasticnet, none 중 하나 입력해서 사용\n",
    "clf_logi_l2.fit(X_tn_std, y_tn)"
   ]
  },
  {
   "cell_type": "code",
   "execution_count": 25,
   "id": "0b91c4c2",
   "metadata": {},
   "outputs": [
    {
     "name": "stdout",
     "output_type": "stream",
     "text": [
      "[[-0.29792942 -0.58056355 -0.3109406  -0.377129   -0.11984232  0.42855478\n",
      "  -0.71131106 -0.85371164 -0.46688191  0.11762548 -1.38262136  0.0899184\n",
      "  -0.94778563 -0.94686238  0.18575731  0.99305313  0.11090349 -0.3458275\n",
      "   0.20290919  0.80470317 -0.91626377 -0.91726667 -0.8159834  -0.86539197\n",
      "  -0.45539191  0.10347391 -0.83009341 -0.98445173 -0.5920036  -0.61086989]]\n",
      "[0.02713751]\n"
     ]
    }
   ],
   "source": [
    "# 로지스틱 회귀 분석 추정 계수\n",
    "print(clf_logi_l2.coef_)\n",
    "print(clf_logi_l2.intercept_)"
   ]
  },
  {
   "cell_type": "code",
   "execution_count": 26,
   "id": "defb5b37",
   "metadata": {},
   "outputs": [
    {
     "name": "stdout",
     "output_type": "stream",
     "text": [
      "[0 1 1 1 1 1 1 1 1 1 1 1 1 0 1 0 1 0 0 0 0 0 1 1 0 1 1 0 1 0 1 0 1 0 1 0 1\n",
      " 0 1 0 0 1 0 1 1 0 1 1 1 0 0 0 0 1 1 1 1 1 1 0 0 0 1 1 0 1 0 0 0 1 1 0 1 0\n",
      " 0 1 1 1 1 1 0 0 0 1 0 1 1 1 0 0 1 0 0 0 1 1 0 1 1 1 1 1 1 1 0 1 0 1 1 1 1\n",
      " 0 0 1 1 1 1 1 1 1 1 1 1 1 0 1 1 1 1 1 0 1 1 1 1 1 0 0 0 1 1 1 0]\n"
     ]
    }
   ],
   "source": [
    "# 데이터 예측\n",
    "pred_logistic = clf_logi_l2.predict(X_te_std)\n",
    "print(pred_logistic)"
   ]
  },
  {
   "cell_type": "code",
   "execution_count": 27,
   "id": "d9f3d572",
   "metadata": {
    "scrolled": true
   },
   "outputs": [
    {
     "name": "stdout",
     "output_type": "stream",
     "text": [
      "[[9.98638613e-01 1.36138656e-03]\n",
      " [3.95544804e-02 9.60445520e-01]\n",
      " [1.30896362e-03 9.98691036e-01]\n",
      " [1.24473354e-02 9.87552665e-01]\n",
      " [2.44132101e-04 9.99755868e-01]\n",
      " [4.50491513e-03 9.95495085e-01]\n",
      " [1.13985968e-04 9.99886014e-01]\n",
      " [1.82475894e-03 9.98175241e-01]\n",
      " [9.67965506e-05 9.99903203e-01]\n",
      " [1.75222878e-06 9.99998248e-01]\n",
      " [1.76572612e-01 8.23427388e-01]\n",
      " [8.24119135e-02 9.17588087e-01]\n",
      " [9.66067493e-06 9.99990339e-01]\n",
      " [5.39343196e-01 4.60656804e-01]\n",
      " [3.98187854e-01 6.01812146e-01]\n",
      " [9.95762760e-01 4.23724017e-03]\n",
      " [2.75612083e-03 9.97243879e-01]\n",
      " [9.99997097e-01 2.90271401e-06]\n",
      " [9.99926506e-01 7.34935682e-05]\n",
      " [9.99999997e-01 2.78313939e-09]\n",
      " [9.98738365e-01 1.26163489e-03]\n",
      " [9.81405399e-01 1.85946008e-02]\n",
      " [1.77902039e-02 9.82209796e-01]\n",
      " [9.65876713e-04 9.99034123e-01]\n",
      " [9.99464578e-01 5.35421808e-04]\n",
      " [6.73385015e-04 9.99326615e-01]\n",
      " [5.50833875e-05 9.99944917e-01]\n",
      " [9.69828919e-01 3.01710813e-02]\n",
      " [1.62119075e-03 9.98378809e-01]\n",
      " [9.99997821e-01 2.17867101e-06]\n",
      " [6.00571253e-05 9.99939943e-01]\n",
      " [9.99954808e-01 4.51921300e-05]\n",
      " [1.09252006e-01 8.90747994e-01]\n",
      " [9.97255978e-01 2.74402243e-03]\n",
      " [4.51047979e-06 9.99995490e-01]\n",
      " [9.97449456e-01 2.55054412e-03]\n",
      " [1.97830173e-02 9.80216983e-01]\n",
      " [9.99571529e-01 4.28470822e-04]\n",
      " [8.45566258e-03 9.91544337e-01]\n",
      " [9.99487912e-01 5.12087502e-04]\n",
      " [9.42409583e-01 5.75904174e-02]\n",
      " [8.34700429e-05 9.99916530e-01]\n",
      " [9.32505814e-01 6.74941855e-02]\n",
      " [8.11944408e-05 9.99918806e-01]\n",
      " [6.08911689e-02 9.39108831e-01]\n",
      " [9.99999999e-01 1.17373572e-09]\n",
      " [1.00967748e-06 9.99998990e-01]\n",
      " [1.48182234e-02 9.85181777e-01]\n",
      " [6.33630458e-04 9.99366370e-01]\n",
      " [9.99927519e-01 7.24813084e-05]\n",
      " [9.99989528e-01 1.04724511e-05]\n",
      " [8.04262948e-01 1.95737052e-01]\n",
      " [9.99965014e-01 3.49860375e-05]\n",
      " [1.36691079e-03 9.98633089e-01]\n",
      " [1.95330244e-03 9.98046698e-01]\n",
      " [5.74609838e-04 9.99425390e-01]\n",
      " [1.05063052e-03 9.98949369e-01]\n",
      " [7.96089471e-03 9.92039105e-01]\n",
      " [1.00288029e-02 9.89971197e-01]\n",
      " [9.99999999e-01 1.44073341e-09]\n",
      " [9.97609027e-01 2.39097260e-03]\n",
      " [9.99257870e-01 7.42129950e-04]\n",
      " [3.14309030e-05 9.99968569e-01]\n",
      " [4.40044150e-03 9.95599559e-01]\n",
      " [9.99897373e-01 1.02627439e-04]\n",
      " [1.52976144e-01 8.47023856e-01]\n",
      " [1.00000000e+00 2.39185116e-13]\n",
      " [9.99998777e-01 1.22317020e-06]\n",
      " [9.99999046e-01 9.53579837e-07]\n",
      " [7.96239235e-04 9.99203761e-01]\n",
      " [3.87033734e-01 6.12966266e-01]\n",
      " [9.99993469e-01 6.53125942e-06]\n",
      " [2.97085842e-03 9.97029142e-01]\n",
      " [8.09412134e-01 1.90587866e-01]\n",
      " [9.99996998e-01 3.00240009e-06]\n",
      " [1.75950117e-02 9.82404988e-01]\n",
      " [4.94325863e-05 9.99950567e-01]\n",
      " [3.51047770e-02 9.64895223e-01]\n",
      " [4.25841119e-04 9.99574159e-01]\n",
      " [2.09232609e-05 9.99979077e-01]\n",
      " [9.82374564e-01 1.76254356e-02]\n",
      " [1.00000000e+00 3.57855006e-10]\n",
      " [9.99988747e-01 1.12526453e-05]\n",
      " [5.94724730e-05 9.99940528e-01]\n",
      " [9.62731634e-01 3.72683662e-02]\n",
      " [1.69452548e-03 9.98305475e-01]\n",
      " [6.14966533e-05 9.99938503e-01]\n",
      " [6.36886875e-06 9.99993631e-01]\n",
      " [9.99902779e-01 9.72205364e-05]\n",
      " [1.00000000e+00 8.14423797e-11]\n",
      " [3.47458432e-05 9.99965254e-01]\n",
      " [5.53589378e-01 4.46410622e-01]\n",
      " [6.91462937e-01 3.08537063e-01]\n",
      " [9.99996851e-01 3.14924112e-06]\n",
      " [2.01951834e-03 9.97980482e-01]\n",
      " [2.39759190e-03 9.97602408e-01]\n",
      " [9.99999992e-01 7.92006333e-09]\n",
      " [1.03400237e-02 9.89659976e-01]\n",
      " [9.23218910e-03 9.90767811e-01]\n",
      " [9.80048490e-04 9.99019952e-01]\n",
      " [5.45753731e-09 9.99999995e-01]\n",
      " [3.09034901e-03 9.96909651e-01]\n",
      " [6.22819445e-03 9.93771806e-01]\n",
      " [1.49494565e-01 8.50505435e-01]\n",
      " [9.99994787e-01 5.21292981e-06]\n",
      " [6.02188244e-04 9.99397812e-01]\n",
      " [9.99995658e-01 4.34219020e-06]\n",
      " [9.49795077e-02 9.05020492e-01]\n",
      " [3.27428663e-01 6.72571337e-01]\n",
      " [1.72350019e-02 9.82764998e-01]\n",
      " [3.75686888e-02 9.62431311e-01]\n",
      " [9.99975711e-01 2.42887910e-05]\n",
      " [9.99911399e-01 8.86014791e-05]\n",
      " [8.65663331e-02 9.13433667e-01]\n",
      " [8.21398481e-04 9.99178602e-01]\n",
      " [2.45946373e-02 9.75405363e-01]\n",
      " [1.43898490e-01 8.56101510e-01]\n",
      " [1.58128486e-03 9.98418715e-01]\n",
      " [1.79682971e-02 9.82031703e-01]\n",
      " [1.18803803e-03 9.98811962e-01]\n",
      " [1.55728346e-02 9.84427165e-01]\n",
      " [1.43822197e-03 9.98561778e-01]\n",
      " [3.86829219e-01 6.13170781e-01]\n",
      " [2.65232841e-02 9.73476716e-01]\n",
      " [9.99999918e-01 8.17382381e-08]\n",
      " [1.28424726e-01 8.71575274e-01]\n",
      " [4.67709202e-01 5.32290798e-01]\n",
      " [2.58725940e-04 9.99741274e-01]\n",
      " [3.25269018e-05 9.99967473e-01]\n",
      " [4.00075207e-05 9.99959992e-01]\n",
      " [9.99901036e-01 9.89636008e-05]\n",
      " [1.27248974e-04 9.99872751e-01]\n",
      " [2.66411581e-04 9.99733588e-01]\n",
      " [2.13163719e-01 7.86836281e-01]\n",
      " [2.92511631e-02 9.70748837e-01]\n",
      " [2.37309476e-05 9.99976269e-01]\n",
      " [5.09465728e-01 4.90534272e-01]\n",
      " [6.17881971e-01 3.82118029e-01]\n",
      " [1.00000000e+00 1.46648090e-12]\n",
      " [8.41453252e-05 9.99915855e-01]\n",
      " [1.58701592e-03 9.98412984e-01]\n",
      " [1.26424968e-03 9.98735750e-01]\n",
      " [9.99999994e-01 5.81805301e-09]]\n"
     ]
    }
   ],
   "source": [
    "# 클래스 확률로 예측\n",
    "pred_proba = clf_logi_l2.predict_proba(X_te_std) # 해당 클래스에 속할 확률 출력\n",
    "print(pred_proba)"
   ]
  },
  {
   "cell_type": "code",
   "execution_count": 28,
   "id": "25314ec6",
   "metadata": {},
   "outputs": [
    {
     "name": "stdout",
     "output_type": "stream",
     "text": [
      "0.9666666666666667\n"
     ]
    }
   ],
   "source": [
    "# 정밀도 평가\n",
    "from sklearn.metrics import precision_score\n",
    "print(precision_score(y_te, pred_logistic))"
   ]
  },
  {
   "cell_type": "code",
   "execution_count": 29,
   "id": "4b7ee946",
   "metadata": {},
   "outputs": [
    {
     "name": "stdout",
     "output_type": "stream",
     "text": [
      "[[50  3]\n",
      " [ 3 87]]\n"
     ]
    }
   ],
   "source": [
    "# confusion matrix 확인\n",
    "from sklearn.metrics import confusion_matrix\n",
    "print(confusion_matrix(y_te, pred_logistic))"
   ]
  },
  {
   "cell_type": "code",
   "execution_count": 30,
   "id": "d2a5ffb3",
   "metadata": {},
   "outputs": [
    {
     "name": "stdout",
     "output_type": "stream",
     "text": [
      "              precision    recall  f1-score   support\n",
      "\n",
      "           0       0.94      0.94      0.94        53\n",
      "           1       0.97      0.97      0.97        90\n",
      "\n",
      "    accuracy                           0.96       143\n",
      "   macro avg       0.96      0.96      0.96       143\n",
      "weighted avg       0.96      0.96      0.96       143\n",
      "\n"
     ]
    }
   ],
   "source": [
    "# 분류 리포트 확인\n",
    "from sklearn.metrics import classification_report\n",
    "print(classification_report(y_te, pred_logistic))"
   ]
  },
  {
   "cell_type": "markdown",
   "id": "ed6971d6",
   "metadata": {},
   "source": [
    "## 나이브 베이즈 (Naive Bayes)\n",
    "- 조건부 독립(conditional independence)인 피처 가정\n",
    "- 베이즈 이론 기반"
   ]
  },
  {
   "cell_type": "code",
   "execution_count": 1,
   "id": "e050f3a1",
   "metadata": {},
   "outputs": [],
   "source": [
    "# 데이터 불러오기 (와인 종류 구분)\n",
    "from sklearn import datasets\n",
    "raw_wine = datasets.load_wine()\n",
    "\n",
    "# 피처, 타깃 데이터 지정\n",
    "X = raw_wine.data\n",
    "y = raw_wine.target\n",
    "\n",
    "# 트레이닝/테스트 데이터 분할\n",
    "from sklearn.model_selection import train_test_split\n",
    "X_tn, X_te, y_tn, y_te = train_test_split(X, y, random_state=0)\n",
    "\n",
    "# 데이터 표준화\n",
    "from sklearn.preprocessing import StandardScaler\n",
    "std_scale = StandardScaler()\n",
    "std_scale.fit(X_tn)\n",
    "X_tn_std = std_scale.transform(X_tn)\n",
    "X_te_std = std_scale.transform(X_te)"
   ]
  },
  {
   "cell_type": "code",
   "execution_count": 2,
   "id": "0d0bc881",
   "metadata": {},
   "outputs": [
    {
     "data": {
      "text/plain": [
       "GaussianNB()"
      ]
     },
     "execution_count": 2,
     "metadata": {},
     "output_type": "execute_result"
    }
   ],
   "source": [
    "# 데이터 학습\n",
    "from sklearn.naive_bayes import GaussianNB\n",
    "clf_gnb = GaussianNB()\n",
    "clf_gnb.fit(X_tn_std, y_tn)"
   ]
  },
  {
   "cell_type": "code",
   "execution_count": 3,
   "id": "f167060a",
   "metadata": {},
   "outputs": [
    {
     "data": {
      "text/plain": [
       "array([0, 2, 1, 0, 1, 1, 0, 2, 1, 1, 2, 2, 0, 0, 2, 1, 0, 0, 2, 0, 0, 0,\n",
       "       0, 1, 1, 1, 1, 1, 1, 2, 0, 0, 1, 0, 0, 0, 2, 1, 1, 2, 0, 0, 1, 1,\n",
       "       1])"
      ]
     },
     "execution_count": 3,
     "metadata": {},
     "output_type": "execute_result"
    }
   ],
   "source": [
    "# 데이터 예측\n",
    "pred_gnb = clf_gnb.predict(X_te_std)\n",
    "pred_gnb"
   ]
  },
  {
   "cell_type": "code",
   "execution_count": 4,
   "id": "b1c6016c",
   "metadata": {},
   "outputs": [
    {
     "data": {
      "text/plain": [
       "0.9523809523809524"
      ]
     },
     "execution_count": 4,
     "metadata": {},
     "output_type": "execute_result"
    }
   ],
   "source": [
    "# 리콜 평가\n",
    "from sklearn.metrics import recall_score\n",
    "recall = recall_score(y_te, pred_gnb, average='macro')\n",
    "recall"
   ]
  },
  {
   "cell_type": "code",
   "execution_count": 10,
   "id": "9ab5829a",
   "metadata": {},
   "outputs": [
    {
     "name": "stdout",
     "output_type": "stream",
     "text": [
      "[[16  0  0]\n",
      " [ 2 18  1]\n",
      " [ 0  0  8]]\n"
     ]
    }
   ],
   "source": [
    "# confusion matrix 확인\n",
    "from sklearn.metrics import confusion_matrix\n",
    "conf_matrix = confusion_matrix(y_te, pred_gnb)\n",
    "print(conf_matrix)"
   ]
  },
  {
   "cell_type": "code",
   "execution_count": 9,
   "id": "8573d295",
   "metadata": {},
   "outputs": [
    {
     "name": "stdout",
     "output_type": "stream",
     "text": [
      "              precision    recall  f1-score   support\n",
      "\n",
      "           0       0.89      1.00      0.94        16\n",
      "           1       1.00      0.86      0.92        21\n",
      "           2       0.89      1.00      0.94         8\n",
      "\n",
      "    accuracy                           0.93        45\n",
      "   macro avg       0.93      0.95      0.94        45\n",
      "weighted avg       0.94      0.93      0.93        45\n",
      "\n"
     ]
    }
   ],
   "source": [
    "# 분류 리포트 확인\n",
    "from sklearn.metrics import classification_report\n",
    "class_report = classification_report(y_te, pred_gnb)\n",
    "print(class_report)"
   ]
  },
  {
   "cell_type": "markdown",
   "id": "fac2c725",
   "metadata": {},
   "source": [
    "## 의사 결정 나무 (decision tree)\n",
    "- root node, leaf node, decision node, ancestor node, parent note, child node, sibling node, level, depth, degree\n",
    "- 이해하기 쉽다는 장점, 다만 오버피팅 된다는 단점 => 보완하기 위해 random forest 사용"
   ]
  },
  {
   "cell_type": "markdown",
   "id": "d59227b8",
   "metadata": {},
   "source": [
    "### 엔트로피\n",
    "- 불순도(impurity) 정도 측정, 낮을수록 좋음 (불순도=노드에 서로 다른 데이터가 얼마나 섞여 있는가를 의미)\n",
    "- 각 노드별 엔트로피 이용해 테스트 전체의 성능 평가 (테스트 성능 점수도 낮을수록 좋음)"
   ]
  },
  {
   "cell_type": "markdown",
   "id": "6bc9b3f5",
   "metadata": {},
   "source": [
    "### 지니계수 (gini index)\n",
    "- 불순도 측정하는 또 다른 방법\n",
    "- 데이터 셋에서 랜덤으로 선택한 데이터에 임의로 라벨링을 했을 때 틀릴 확률"
   ]
  },
  {
   "cell_type": "markdown",
   "id": "caeaabd3",
   "metadata": {},
   "source": [
    "### 회귀 나무\n",
    "- 의사결정나무의 피처가 연속형 변수인 경우\n",
    ">  각 피처 값을 따로 테스트 기준으로 정하고 테스트\n",
    "- 타깃 데이터가 연속형 변수인 경우\n",
    "> 회귀 나무 모형 (regression tree) 사용,\n",
    "> 예측값을 각 항목 평균값으로"
   ]
  },
  {
   "cell_type": "code",
   "execution_count": 11,
   "id": "3e7f8981",
   "metadata": {},
   "outputs": [],
   "source": [
    "# 데이터 불러오기 (와인 종류 분류)\n",
    "from sklearn import datasets\n",
    "raw_wine = datasets.load_wine()\n",
    "\n",
    "# 피처, 타깃 데이터 지정\n",
    "X = raw_wine.data\n",
    "y = raw_wine.target\n",
    "\n",
    "# 트레이닝/테스트 데이터 분할\n",
    "from sklearn.model_selection import train_test_split\n",
    "X_tn, X_te, y_tn, y_te = train_test_split(X, y, random_state=0)\n",
    "\n",
    "# 데이터 표준화\n",
    "from sklearn.preprocessing import StandardScaler\n",
    "std_scale = StandardScaler()\n",
    "std_scale.fit(X_tn)\n",
    "X_tn_std = std_scale.transform(X_tn)\n",
    "X_te_std = std_scale.transform(X_te)"
   ]
  },
  {
   "cell_type": "code",
   "execution_count": 13,
   "id": "5af751df",
   "metadata": {},
   "outputs": [
    {
     "data": {
      "text/plain": [
       "DecisionTreeClassifier(random_state=0)"
      ]
     },
     "execution_count": 13,
     "metadata": {},
     "output_type": "execute_result"
    }
   ],
   "source": [
    "# 데이터 학습\n",
    "from sklearn import tree\n",
    "clf_tree = tree.DecisionTreeClassifier(random_state=0)\n",
    "clf_tree.fit(X_tn_std, y_tn)"
   ]
  },
  {
   "cell_type": "code",
   "execution_count": 14,
   "id": "a3c67f1b",
   "metadata": {},
   "outputs": [
    {
     "name": "stdout",
     "output_type": "stream",
     "text": [
      "[0 2 1 0 1 1 0 2 1 1 2 2 0 1 2 1 0 0 2 0 1 0 1 1 1 1 1 1 1 2 0 0 1 0 0 0 2\n",
      " 1 1 2 1 0 1 1 1]\n"
     ]
    }
   ],
   "source": [
    "# 데이터 예측\n",
    "pred_tree = clf_tree.predict(X_te_std)\n",
    "print(pred_tree)"
   ]
  },
  {
   "cell_type": "code",
   "execution_count": 16,
   "id": "7a07842c",
   "metadata": {},
   "outputs": [
    {
     "name": "stdout",
     "output_type": "stream",
     "text": [
      "0.9349141206870346\n"
     ]
    }
   ],
   "source": [
    "# f1 score 평가\n",
    "from sklearn.metrics import f1_score\n",
    "f1 = f1_score(y_te, pred_tree, average='macro')\n",
    "print(f1)"
   ]
  },
  {
   "cell_type": "code",
   "execution_count": 17,
   "id": "e0d0db1c",
   "metadata": {},
   "outputs": [
    {
     "name": "stdout",
     "output_type": "stream",
     "text": [
      "[[14  2  0]\n",
      " [ 0 20  1]\n",
      " [ 0  0  8]]\n",
      "              precision    recall  f1-score   support\n",
      "\n",
      "           0       1.00      0.88      0.93        16\n",
      "           1       0.91      0.95      0.93        21\n",
      "           2       0.89      1.00      0.94         8\n",
      "\n",
      "    accuracy                           0.93        45\n",
      "   macro avg       0.93      0.94      0.93        45\n",
      "weighted avg       0.94      0.93      0.93        45\n",
      "\n"
     ]
    }
   ],
   "source": [
    "# confusion matrix 확인\n",
    "from sklearn.metrics import confusion_matrix\n",
    "conf_matrix = confusion_matrix(y_te, pred_tree)\n",
    "print(conf_matrix)\n",
    "\n",
    "# 분류 리포트 확인\n",
    "from sklearn.metrics import classification_report\n",
    "class_report = classification_report(y_te, pred_tree)\n",
    "print(class_report)"
   ]
  },
  {
   "cell_type": "markdown",
   "id": "525110bf",
   "metadata": {},
   "source": [
    "# 서포트 벡터 머신 (SVM: Support Vector Machine)\n",
    "- 서포트 벡터를 기준으로 클래스 판별\n",
    "- 중심선과 경계선을 이용해 데이터 구분 (경계선 = 서포트 벡터)\n",
    "- 마진(margin): 서포트 벡터 간 너비(width) - 최대화하는 것이 목표\n",
    "- 데이터 분포의 특성(i.e., 공분산) 이용하지 않는 것이 특징\n",
    "\n",
    "#### 소프트 마진(soft margin)\n",
    "- 잘못 분류된 데이터를 '어느 정도' 허용\n",
    "- 슬랙 변수(slack variable) 사용: 해당 데이터가 잘 분류되었는지를 나타내는 변수 --> 데이터 포인트가 잘못된 영역에 속하고 서포트 벡터로부터 멀리 떨어져 있을 수록 값 커짐"
   ]
  },
  {
   "cell_type": "markdown",
   "id": "f230ad71",
   "metadata": {},
   "source": [
    "## 커널 서포트 벡터 머신(Kernel Support Vector Machine)\n",
    "- 피처 공간을 변경한 후 SVM 적용\n",
    "- 커널 함수(kernel function) 사용: dth Degree polynomial, Radial basis, Neural network 등 (1) 적분값이 1이며 (2) 원점을 중심으로 대칭이고 (3) non-negative인 함수\n",
    "- 커널 함수 바꿈으로써 여러 가지 학습 모형 생성 가능\n",
    "\n",
    "## 서포트 벡터 회귀 (Support Vector Regression)\n",
    "- 앞선 svm들은 분류 모형. SVR은 회귀 모형\n",
    "- 서포트 벡터 기준으로 회귀\n",
    "- 중심선은 회귀 직선이 됨"
   ]
  },
  {
   "cell_type": "code",
   "execution_count": 9,
   "id": "20c30cb0",
   "metadata": {},
   "outputs": [],
   "source": [
    "# 데이터 불러오기\n",
    "from sklearn import datasets\n",
    "raw_wine = datasets.load_wine()\n",
    "\n",
    "# 피처, 타깃 데이터 지정\n",
    "X = raw_wine.data\n",
    "y = raw_wine.target\n",
    "\n",
    "# 트레이닝/테스트 데이터 분할\n",
    "from sklearn.model_selection import train_test_split\n",
    "X_tn, X_te, y_tn, y_te = train_test_split(X, y, random_state=0)\n",
    "\n",
    "# 데이터 표준화\n",
    "from sklearn.preprocessing import StandardScaler\n",
    "std_scale = StandardScaler()\n",
    "std_scale.fit(X_tn)\n",
    "X_tn_std = std_scale.transform(X_tn)\n",
    "X_te_std = std_scale.transform(X_te)"
   ]
  },
  {
   "cell_type": "code",
   "execution_count": 10,
   "id": "6ff1bd6a",
   "metadata": {},
   "outputs": [
    {
     "data": {
      "text/plain": [
       "SVC(kernel='linear', random_state=0)"
      ]
     },
     "execution_count": 10,
     "metadata": {},
     "output_type": "execute_result"
    }
   ],
   "source": [
    "# 데이터 학습\n",
    "from sklearn import svm\n",
    "# kernel: 서포트 벡터 머신의 커널 정하는 옵션 (linear, poly, rbf, sigmoid, precomputed 등)\n",
    "clf_svm_lr = svm.SVC(kernel='linear', random_state=0) #SVC 메소드 사용해서 모형 설정 (분류 문제). 회귀 문제라면 SVR 메소드 사용\n",
    "clf_svm_lr.fit(X_tn_std, y_tn)"
   ]
  },
  {
   "cell_type": "code",
   "execution_count": 13,
   "id": "9a26c006",
   "metadata": {},
   "outputs": [
    {
     "name": "stdout",
     "output_type": "stream",
     "text": [
      "[0 2 1 0 1 1 0 2 1 1 2 2 0 1 2 1 0 0 1 0 1 0 0 1 1 1 1 1 1 2 0 0 1 0 0 0 2\n",
      " 1 1 2 0 0 1 1 1]\n"
     ]
    }
   ],
   "source": [
    "# 데이터 예측\n",
    "pred_svm = clf_svm_lr.predict(X_te_std)\n",
    "print(pred_svm)"
   ]
  },
  {
   "cell_type": "code",
   "execution_count": 14,
   "id": "763c7d5c",
   "metadata": {},
   "outputs": [
    {
     "name": "stdout",
     "output_type": "stream",
     "text": [
      "1.0\n"
     ]
    }
   ],
   "source": [
    "# 정확도 평가\n",
    "from sklearn.metrics import accuracy_score\n",
    "accuracy = accuracy_score(y_te, pred_svm)\n",
    "print(accuracy)"
   ]
  },
  {
   "cell_type": "markdown",
   "id": "2c507774",
   "metadata": {},
   "source": [
    "# Cross Validation 실습\n",
    "\n",
    "hyperparameter tuning을 위해 크로스 밸리데이션 기법 활용"
   ]
  },
  {
   "cell_type": "code",
   "execution_count": 18,
   "id": "44869507",
   "metadata": {},
   "outputs": [],
   "source": [
    "# 데이터 불러오기\n",
    "from sklearn import datasets\n",
    "raw_wine = datasets.load_wine()\n",
    "\n",
    "# 피처, 타깃 데이터 지정\n",
    "X = raw_wine.data\n",
    "y = raw_wine.target\n",
    "\n",
    "# 트레이닝/테스트 데이터 분할\n",
    "from sklearn.model_selection import train_test_split\n",
    "X_tn, X_te, y_tn, y_te = train_test_split(X, y, random_state=0)\n",
    "\n",
    "# 데이터 표준화\n",
    "from sklearn.preprocessing import StandardScaler\n",
    "std_scale = StandardScaler()\n",
    "std_scale.fit(X_tn)\n",
    "X_tn_std = std_scale.transform(X_tn)\n",
    "X_te_std = std_scale.transform(X_te)"
   ]
  },
  {
   "cell_type": "code",
   "execution_count": 19,
   "id": "ed18d980",
   "metadata": {},
   "outputs": [
    {
     "data": {
      "text/plain": [
       "GridSearchCV(cv=StratifiedKFold(n_splits=5, random_state=0, shuffle=True),\n",
       "             estimator=SVC(random_state=0),\n",
       "             param_grid={'C': [0.5, 1, 10, 100], 'kernel': ('linear', 'rbf')},\n",
       "             scoring='accuracy')"
      ]
     },
     "execution_count": 19,
     "metadata": {},
     "output_type": "execute_result"
    }
   ],
   "source": [
    "# 그리드 서치\n",
    "\n",
    "from sklearn import svm\n",
    "# stratifid k fold = 일반적인 k-fold와 달리 라벨링의 비율을 유지하면서 데이터 추출하는 방법\n",
    "from sklearn.model_selection import StratifiedKFold\n",
    "from sklearn.model_selection import GridSearchCV\n",
    "\n",
    "param_grid = {'kernel':('linear', 'rbf'),\n",
    "             'C':[0.5, 1, 10, 100]}\n",
    "\n",
    "# 크로스 밸리데이션 방법 설정\n",
    "kfold = StratifiedKFold(n_splits=5, shuffle=True, random_state=0)\n",
    "# 학습 시킬 기본 모형 설정\n",
    "svc = svm.SVC(random_state=0)\n",
    "# 그리드서치 수행 (학습시킬모형, 파라미터, 크로스밸리데이션 방법, 모형평가방법)\n",
    "grid_cv = GridSearchCV(svc, param_grid, cv=kfold, scoring='accuracy')\n",
    "grid_cv.fit(X_tn_std, y_tn)"
   ]
  },
  {
   "cell_type": "code",
   "execution_count": 20,
   "id": "fa3ba0a8",
   "metadata": {},
   "outputs": [
    {
     "data": {
      "text/plain": [
       "{'mean_fit_time': array([0.00443034, 0.00417032, 0.00434422, 0.00357814, 0.00357924,\n",
       "        0.00379252, 0.00414205, 0.00664115]),\n",
       " 'std_fit_time': array([0.00240352, 0.00075232, 0.00061365, 0.00048402, 0.00050013,\n",
       "        0.00146622, 0.00043628, 0.00132584]),\n",
       " 'mean_score_time': array([0.00056343, 0.00139608, 0.00171628, 0.00157576, 0.00100584,\n",
       "        0.0013876 , 0.00130763, 0.00329261]),\n",
       " 'std_score_time': array([4.42708786e-04, 4.87264552e-04, 7.41993072e-04, 4.86283140e-04,\n",
       "        1.49223368e-05, 4.79921025e-04, 4.02898974e-04, 9.68751921e-04]),\n",
       " 'param_C': masked_array(data=[0.5, 0.5, 1, 1, 10, 10, 100, 100],\n",
       "              mask=[False, False, False, False, False, False, False, False],\n",
       "        fill_value='?',\n",
       "             dtype=object),\n",
       " 'param_kernel': masked_array(data=['linear', 'rbf', 'linear', 'rbf', 'linear', 'rbf',\n",
       "                    'linear', 'rbf'],\n",
       "              mask=[False, False, False, False, False, False, False, False],\n",
       "        fill_value='?',\n",
       "             dtype=object),\n",
       " 'params': [{'C': 0.5, 'kernel': 'linear'},\n",
       "  {'C': 0.5, 'kernel': 'rbf'},\n",
       "  {'C': 1, 'kernel': 'linear'},\n",
       "  {'C': 1, 'kernel': 'rbf'},\n",
       "  {'C': 10, 'kernel': 'linear'},\n",
       "  {'C': 10, 'kernel': 'rbf'},\n",
       "  {'C': 100, 'kernel': 'linear'},\n",
       "  {'C': 100, 'kernel': 'rbf'}],\n",
       " 'split0_test_score': array([0.88888889, 0.96296296, 0.88888889, 0.92592593, 0.88888889,\n",
       "        0.92592593, 0.88888889, 0.92592593]),\n",
       " 'split1_test_score': array([0.96296296, 1.        , 0.96296296, 0.96296296, 0.96296296,\n",
       "        0.96296296, 0.96296296, 0.96296296]),\n",
       " 'split2_test_score': array([0.92592593, 0.96296296, 0.92592593, 0.96296296, 0.92592593,\n",
       "        0.96296296, 0.92592593, 0.96296296]),\n",
       " 'split3_test_score': array([1.        , 0.96153846, 1.        , 0.96153846, 1.        ,\n",
       "        0.96153846, 1.        , 0.96153846]),\n",
       " 'split4_test_score': array([0.84615385, 1.        , 0.84615385, 1.        , 0.84615385,\n",
       "        1.        , 0.84615385, 1.        ]),\n",
       " 'mean_test_score': array([0.92478632, 0.97749288, 0.92478632, 0.96267806, 0.92478632,\n",
       "        0.96267806, 0.92478632, 0.96267806]),\n",
       " 'std_test_score': array([0.05401397, 0.01838435, 0.05401397, 0.02343121, 0.05401397,\n",
       "        0.02343121, 0.05401397, 0.02343121]),\n",
       " 'rank_test_score': array([5, 1, 5, 2, 5, 2, 5, 2])}"
      ]
     },
     "execution_count": 20,
     "metadata": {},
     "output_type": "execute_result"
    }
   ],
   "source": [
    "# 그리드 서치 결과 확인\n",
    "grid_cv.cv_results_"
   ]
  },
  {
   "cell_type": "code",
   "execution_count": 21,
   "id": "35c8c1af",
   "metadata": {},
   "outputs": [
    {
     "data": {
      "text/html": [
       "<div>\n",
       "<style scoped>\n",
       "    .dataframe tbody tr th:only-of-type {\n",
       "        vertical-align: middle;\n",
       "    }\n",
       "\n",
       "    .dataframe tbody tr th {\n",
       "        vertical-align: top;\n",
       "    }\n",
       "\n",
       "    .dataframe thead th {\n",
       "        text-align: right;\n",
       "    }\n",
       "</style>\n",
       "<table border=\"1\" class=\"dataframe\">\n",
       "  <thead>\n",
       "    <tr style=\"text-align: right;\">\n",
       "      <th></th>\n",
       "      <th>0</th>\n",
       "      <th>1</th>\n",
       "      <th>2</th>\n",
       "      <th>3</th>\n",
       "      <th>4</th>\n",
       "      <th>5</th>\n",
       "      <th>6</th>\n",
       "      <th>7</th>\n",
       "    </tr>\n",
       "  </thead>\n",
       "  <tbody>\n",
       "    <tr>\n",
       "      <th>mean_fit_time</th>\n",
       "      <td>0.00443</td>\n",
       "      <td>0.00417</td>\n",
       "      <td>0.004344</td>\n",
       "      <td>0.003578</td>\n",
       "      <td>0.003579</td>\n",
       "      <td>0.003793</td>\n",
       "      <td>0.004142</td>\n",
       "      <td>0.006641</td>\n",
       "    </tr>\n",
       "    <tr>\n",
       "      <th>std_fit_time</th>\n",
       "      <td>0.002404</td>\n",
       "      <td>0.000752</td>\n",
       "      <td>0.000614</td>\n",
       "      <td>0.000484</td>\n",
       "      <td>0.0005</td>\n",
       "      <td>0.001466</td>\n",
       "      <td>0.000436</td>\n",
       "      <td>0.001326</td>\n",
       "    </tr>\n",
       "    <tr>\n",
       "      <th>mean_score_time</th>\n",
       "      <td>0.000563</td>\n",
       "      <td>0.001396</td>\n",
       "      <td>0.001716</td>\n",
       "      <td>0.001576</td>\n",
       "      <td>0.001006</td>\n",
       "      <td>0.001388</td>\n",
       "      <td>0.001308</td>\n",
       "      <td>0.003293</td>\n",
       "    </tr>\n",
       "    <tr>\n",
       "      <th>std_score_time</th>\n",
       "      <td>0.000443</td>\n",
       "      <td>0.000487</td>\n",
       "      <td>0.000742</td>\n",
       "      <td>0.000486</td>\n",
       "      <td>0.000015</td>\n",
       "      <td>0.00048</td>\n",
       "      <td>0.000403</td>\n",
       "      <td>0.000969</td>\n",
       "    </tr>\n",
       "    <tr>\n",
       "      <th>param_C</th>\n",
       "      <td>0.5</td>\n",
       "      <td>0.5</td>\n",
       "      <td>1</td>\n",
       "      <td>1</td>\n",
       "      <td>10</td>\n",
       "      <td>10</td>\n",
       "      <td>100</td>\n",
       "      <td>100</td>\n",
       "    </tr>\n",
       "    <tr>\n",
       "      <th>param_kernel</th>\n",
       "      <td>linear</td>\n",
       "      <td>rbf</td>\n",
       "      <td>linear</td>\n",
       "      <td>rbf</td>\n",
       "      <td>linear</td>\n",
       "      <td>rbf</td>\n",
       "      <td>linear</td>\n",
       "      <td>rbf</td>\n",
       "    </tr>\n",
       "    <tr>\n",
       "      <th>params</th>\n",
       "      <td>{'C': 0.5, 'kernel': 'linear'}</td>\n",
       "      <td>{'C': 0.5, 'kernel': 'rbf'}</td>\n",
       "      <td>{'C': 1, 'kernel': 'linear'}</td>\n",
       "      <td>{'C': 1, 'kernel': 'rbf'}</td>\n",
       "      <td>{'C': 10, 'kernel': 'linear'}</td>\n",
       "      <td>{'C': 10, 'kernel': 'rbf'}</td>\n",
       "      <td>{'C': 100, 'kernel': 'linear'}</td>\n",
       "      <td>{'C': 100, 'kernel': 'rbf'}</td>\n",
       "    </tr>\n",
       "    <tr>\n",
       "      <th>split0_test_score</th>\n",
       "      <td>0.888889</td>\n",
       "      <td>0.962963</td>\n",
       "      <td>0.888889</td>\n",
       "      <td>0.925926</td>\n",
       "      <td>0.888889</td>\n",
       "      <td>0.925926</td>\n",
       "      <td>0.888889</td>\n",
       "      <td>0.925926</td>\n",
       "    </tr>\n",
       "    <tr>\n",
       "      <th>split1_test_score</th>\n",
       "      <td>0.962963</td>\n",
       "      <td>1.0</td>\n",
       "      <td>0.962963</td>\n",
       "      <td>0.962963</td>\n",
       "      <td>0.962963</td>\n",
       "      <td>0.962963</td>\n",
       "      <td>0.962963</td>\n",
       "      <td>0.962963</td>\n",
       "    </tr>\n",
       "    <tr>\n",
       "      <th>split2_test_score</th>\n",
       "      <td>0.925926</td>\n",
       "      <td>0.962963</td>\n",
       "      <td>0.925926</td>\n",
       "      <td>0.962963</td>\n",
       "      <td>0.925926</td>\n",
       "      <td>0.962963</td>\n",
       "      <td>0.925926</td>\n",
       "      <td>0.962963</td>\n",
       "    </tr>\n",
       "    <tr>\n",
       "      <th>split3_test_score</th>\n",
       "      <td>1.0</td>\n",
       "      <td>0.961538</td>\n",
       "      <td>1.0</td>\n",
       "      <td>0.961538</td>\n",
       "      <td>1.0</td>\n",
       "      <td>0.961538</td>\n",
       "      <td>1.0</td>\n",
       "      <td>0.961538</td>\n",
       "    </tr>\n",
       "    <tr>\n",
       "      <th>split4_test_score</th>\n",
       "      <td>0.846154</td>\n",
       "      <td>1.0</td>\n",
       "      <td>0.846154</td>\n",
       "      <td>1.0</td>\n",
       "      <td>0.846154</td>\n",
       "      <td>1.0</td>\n",
       "      <td>0.846154</td>\n",
       "      <td>1.0</td>\n",
       "    </tr>\n",
       "    <tr>\n",
       "      <th>mean_test_score</th>\n",
       "      <td>0.924786</td>\n",
       "      <td>0.977493</td>\n",
       "      <td>0.924786</td>\n",
       "      <td>0.962678</td>\n",
       "      <td>0.924786</td>\n",
       "      <td>0.962678</td>\n",
       "      <td>0.924786</td>\n",
       "      <td>0.962678</td>\n",
       "    </tr>\n",
       "    <tr>\n",
       "      <th>std_test_score</th>\n",
       "      <td>0.054014</td>\n",
       "      <td>0.018384</td>\n",
       "      <td>0.054014</td>\n",
       "      <td>0.023431</td>\n",
       "      <td>0.054014</td>\n",
       "      <td>0.023431</td>\n",
       "      <td>0.054014</td>\n",
       "      <td>0.023431</td>\n",
       "    </tr>\n",
       "    <tr>\n",
       "      <th>rank_test_score</th>\n",
       "      <td>5</td>\n",
       "      <td>1</td>\n",
       "      <td>5</td>\n",
       "      <td>2</td>\n",
       "      <td>5</td>\n",
       "      <td>2</td>\n",
       "      <td>5</td>\n",
       "      <td>2</td>\n",
       "    </tr>\n",
       "  </tbody>\n",
       "</table>\n",
       "</div>"
      ],
      "text/plain": [
       "                                                0  \\\n",
       "mean_fit_time                             0.00443   \n",
       "std_fit_time                             0.002404   \n",
       "mean_score_time                          0.000563   \n",
       "std_score_time                           0.000443   \n",
       "param_C                                       0.5   \n",
       "param_kernel                               linear   \n",
       "params             {'C': 0.5, 'kernel': 'linear'}   \n",
       "split0_test_score                        0.888889   \n",
       "split1_test_score                        0.962963   \n",
       "split2_test_score                        0.925926   \n",
       "split3_test_score                             1.0   \n",
       "split4_test_score                        0.846154   \n",
       "mean_test_score                          0.924786   \n",
       "std_test_score                           0.054014   \n",
       "rank_test_score                                 5   \n",
       "\n",
       "                                             1                             2  \\\n",
       "mean_fit_time                          0.00417                      0.004344   \n",
       "std_fit_time                          0.000752                      0.000614   \n",
       "mean_score_time                       0.001396                      0.001716   \n",
       "std_score_time                        0.000487                      0.000742   \n",
       "param_C                                    0.5                             1   \n",
       "param_kernel                               rbf                        linear   \n",
       "params             {'C': 0.5, 'kernel': 'rbf'}  {'C': 1, 'kernel': 'linear'}   \n",
       "split0_test_score                     0.962963                      0.888889   \n",
       "split1_test_score                          1.0                      0.962963   \n",
       "split2_test_score                     0.962963                      0.925926   \n",
       "split3_test_score                     0.961538                           1.0   \n",
       "split4_test_score                          1.0                      0.846154   \n",
       "mean_test_score                       0.977493                      0.924786   \n",
       "std_test_score                        0.018384                      0.054014   \n",
       "rank_test_score                              1                             5   \n",
       "\n",
       "                                           3                              4  \\\n",
       "mean_fit_time                       0.003578                       0.003579   \n",
       "std_fit_time                        0.000484                         0.0005   \n",
       "mean_score_time                     0.001576                       0.001006   \n",
       "std_score_time                      0.000486                       0.000015   \n",
       "param_C                                    1                             10   \n",
       "param_kernel                             rbf                         linear   \n",
       "params             {'C': 1, 'kernel': 'rbf'}  {'C': 10, 'kernel': 'linear'}   \n",
       "split0_test_score                   0.925926                       0.888889   \n",
       "split1_test_score                   0.962963                       0.962963   \n",
       "split2_test_score                   0.962963                       0.925926   \n",
       "split3_test_score                   0.961538                            1.0   \n",
       "split4_test_score                        1.0                       0.846154   \n",
       "mean_test_score                     0.962678                       0.924786   \n",
       "std_test_score                      0.023431                       0.054014   \n",
       "rank_test_score                            2                              5   \n",
       "\n",
       "                                            5                               6  \\\n",
       "mean_fit_time                        0.003793                        0.004142   \n",
       "std_fit_time                         0.001466                        0.000436   \n",
       "mean_score_time                      0.001388                        0.001308   \n",
       "std_score_time                        0.00048                        0.000403   \n",
       "param_C                                    10                             100   \n",
       "param_kernel                              rbf                          linear   \n",
       "params             {'C': 10, 'kernel': 'rbf'}  {'C': 100, 'kernel': 'linear'}   \n",
       "split0_test_score                    0.925926                        0.888889   \n",
       "split1_test_score                    0.962963                        0.962963   \n",
       "split2_test_score                    0.962963                        0.925926   \n",
       "split3_test_score                    0.961538                             1.0   \n",
       "split4_test_score                         1.0                        0.846154   \n",
       "mean_test_score                      0.962678                        0.924786   \n",
       "std_test_score                       0.023431                        0.054014   \n",
       "rank_test_score                             2                               5   \n",
       "\n",
       "                                             7  \n",
       "mean_fit_time                         0.006641  \n",
       "std_fit_time                          0.001326  \n",
       "mean_score_time                       0.003293  \n",
       "std_score_time                        0.000969  \n",
       "param_C                                    100  \n",
       "param_kernel                               rbf  \n",
       "params             {'C': 100, 'kernel': 'rbf'}  \n",
       "split0_test_score                     0.925926  \n",
       "split1_test_score                     0.962963  \n",
       "split2_test_score                     0.962963  \n",
       "split3_test_score                     0.961538  \n",
       "split4_test_score                          1.0  \n",
       "mean_test_score                       0.962678  \n",
       "std_test_score                        0.023431  \n",
       "rank_test_score                              2  "
      ]
     },
     "execution_count": 21,
     "metadata": {},
     "output_type": "execute_result"
    }
   ],
   "source": [
    "# 그리드 서치 결과 확인(DF)\n",
    "import numpy as np\n",
    "import pandas as pd\n",
    "np.transpose(pd.DataFrame(grid_cv.cv_results_))"
   ]
  },
  {
   "cell_type": "code",
   "execution_count": 22,
   "id": "cb737cc9",
   "metadata": {},
   "outputs": [
    {
     "data": {
      "text/plain": [
       "0.9774928774928775"
      ]
     },
     "execution_count": 22,
     "metadata": {},
     "output_type": "execute_result"
    }
   ],
   "source": [
    "# best score & hyperparameter\n",
    "grid_cv.best_score_"
   ]
  },
  {
   "cell_type": "code",
   "execution_count": 23,
   "id": "7fedd500",
   "metadata": {},
   "outputs": [
    {
     "data": {
      "text/plain": [
       "{'C': 0.5, 'kernel': 'rbf'}"
      ]
     },
     "execution_count": 23,
     "metadata": {},
     "output_type": "execute_result"
    }
   ],
   "source": [
    "grid_cv.best_params_"
   ]
  },
  {
   "cell_type": "code",
   "execution_count": 24,
   "id": "bd10e191",
   "metadata": {},
   "outputs": [
    {
     "name": "stdout",
     "output_type": "stream",
     "text": [
      "SVC(C=0.5, random_state=0)\n"
     ]
    }
   ],
   "source": [
    "# 최종모형\n",
    "clf = grid_cv.best_estimator_\n",
    "print(clf)"
   ]
  },
  {
   "cell_type": "code",
   "execution_count": 25,
   "id": "45443e7c",
   "metadata": {},
   "outputs": [],
   "source": [
    "# 크로스 밸리데이션 스코어 확인(1)\n",
    "from sklearn.model_selection import cross_validate # 여러가지 지표 확인\n",
    "metrics = ['accuracy', 'precision_macro', 'recall_macro', 'f1_macro']\n",
    "cv_scores = cross_validate(clf, X_tn_std, y_tn, cv=kfold, scoring=metrics)"
   ]
  },
  {
   "cell_type": "code",
   "execution_count": 26,
   "id": "e8f24d65",
   "metadata": {},
   "outputs": [
    {
     "data": {
      "text/plain": [
       "{'fit_time': array([0.00598407, 0.00499105, 0.00302649, 0.00294971, 0.00498676]),\n",
       " 'score_time': array([0.01141024, 0.01013231, 0.004987  , 0.00793982, 0.00997376]),\n",
       " 'test_accuracy': array([0.96296296, 1.        , 0.96296296, 0.96153846, 1.        ]),\n",
       " 'test_precision_macro': array([0.96296296, 1.        , 0.96969697, 0.96969697, 1.        ]),\n",
       " 'test_recall_macro': array([0.96666667, 1.        , 0.96296296, 0.95833333, 1.        ]),\n",
       " 'test_f1_macro': array([0.9628483 , 1.        , 0.96451914, 0.96190476, 1.        ])}"
      ]
     },
     "execution_count": 26,
     "metadata": {},
     "output_type": "execute_result"
    }
   ],
   "source": [
    "cv_scores"
   ]
  },
  {
   "cell_type": "code",
   "execution_count": 27,
   "id": "9d222b83",
   "metadata": {},
   "outputs": [
    {
     "name": "stdout",
     "output_type": "stream",
     "text": [
      "[0.96296296 1.         0.96296296 0.96153846 1.        ]\n"
     ]
    }
   ],
   "source": [
    "# 크로스 밸리데이션 스코어 확인(2)\n",
    "from sklearn.model_selection import cross_val_score # 한가지 지표 확인\n",
    "cv_score = cross_val_score(clf, X_tn_std, y_tn, cv=kfold, scoring='accuracy')\n",
    "print(cv_score)"
   ]
  },
  {
   "cell_type": "code",
   "execution_count": 28,
   "id": "e32c2cc2",
   "metadata": {},
   "outputs": [
    {
     "name": "stdout",
     "output_type": "stream",
     "text": [
      "0.9774928774928775\n",
      "0.01838434849561446\n"
     ]
    }
   ],
   "source": [
    "print(cv_score.mean()) # 정확도의 평균\n",
    "print(cv_score.std()) # 정확도의 표준편차"
   ]
  },
  {
   "cell_type": "code",
   "execution_count": 29,
   "id": "686c4c68",
   "metadata": {},
   "outputs": [
    {
     "name": "stdout",
     "output_type": "stream",
     "text": [
      "[0 2 1 0 1 1 0 2 1 1 2 2 0 1 2 1 0 0 1 0 1 0 0 1 1 1 1 1 1 2 0 0 1 0 0 0 2\n",
      " 1 1 2 0 0 1 1 1]\n"
     ]
    }
   ],
   "source": [
    "# 예측\n",
    "pred_svm = clf.predict(X_te_std)\n",
    "print(pred_svm)"
   ]
  },
  {
   "cell_type": "code",
   "execution_count": 30,
   "id": "ed1008f6",
   "metadata": {},
   "outputs": [
    {
     "name": "stdout",
     "output_type": "stream",
     "text": [
      "1.0\n"
     ]
    }
   ],
   "source": [
    "# 정확도\n",
    "from sklearn.metrics import accuracy_score\n",
    "accuracy = accuracy_score(y_te, pred_svm)\n",
    "print(accuracy)"
   ]
  },
  {
   "cell_type": "code",
   "execution_count": 31,
   "id": "97bd8643",
   "metadata": {},
   "outputs": [
    {
     "name": "stdout",
     "output_type": "stream",
     "text": [
      "[[16  0  0]\n",
      " [ 0 21  0]\n",
      " [ 0  0  8]]\n"
     ]
    }
   ],
   "source": [
    "# confusion matrix 확인\n",
    "from sklearn.metrics import confusion_matrix\n",
    "conf_matrix = confusion_matrix(y_te, pred_svm)\n",
    "print(conf_matrix)"
   ]
  },
  {
   "cell_type": "code",
   "execution_count": 32,
   "id": "819895c8",
   "metadata": {},
   "outputs": [
    {
     "name": "stdout",
     "output_type": "stream",
     "text": [
      "              precision    recall  f1-score   support\n",
      "\n",
      "           0       1.00      1.00      1.00        16\n",
      "           1       1.00      1.00      1.00        21\n",
      "           2       1.00      1.00      1.00         8\n",
      "\n",
      "    accuracy                           1.00        45\n",
      "   macro avg       1.00      1.00      1.00        45\n",
      "weighted avg       1.00      1.00      1.00        45\n",
      "\n"
     ]
    }
   ],
   "source": [
    "# 분류 리포트 확인\n",
    "from sklearn.metrics import classification_report\n",
    "class_report = classification_report(y_te, pred_svm)\n",
    "print(class_report)"
   ]
  },
  {
   "cell_type": "code",
   "execution_count": null,
   "id": "b17a6d73",
   "metadata": {},
   "outputs": [],
   "source": []
  }
 ],
 "metadata": {
  "kernelspec": {
   "display_name": "Python 3 (ipykernel)",
   "language": "python",
   "name": "python3"
  },
  "language_info": {
   "codemirror_mode": {
    "name": "ipython",
    "version": 3
   },
   "file_extension": ".py",
   "mimetype": "text/x-python",
   "name": "python",
   "nbconvert_exporter": "python",
   "pygments_lexer": "ipython3",
   "version": "3.9.7"
  }
 },
 "nbformat": 4,
 "nbformat_minor": 5
}
