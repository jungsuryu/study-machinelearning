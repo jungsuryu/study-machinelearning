{
 "cells": [
  {
   "cell_type": "markdown",
   "id": "639f0ed4",
   "metadata": {},
   "source": [
    "# 오버피팅과 언더피팅\n",
    "\n",
    "- 오버피팅(overfitting)\n",
    "> 과도하게 적합, 새로운 데이터셋에 적용하기 어려움, 실제 모형보다 큰 차원으로 적합, 복잡한 모형일 수록 가능성 높음, 분산 커짐\n",
    "- 언더피팅(underfitting)\n",
    "> 데이터의 특성 잘 나타내지 못함, 실제 모형보다 작은 차원으로 적합, 간단한 모형일 수록 가능성 높음, 편향 큰 현상 나타남"
   ]
  },
  {
   "cell_type": "markdown",
   "id": "9c9a46ed",
   "metadata": {},
   "source": [
    "# Cross-validation (교차검증)\n",
    "\n",
    "- overfitting과 underfitting을 방지하고 적합한 모형 추정하기 위한 방법\n",
    "- 정답데이터를 학습데이터와 평가데이터로 나누고, 학습데이터의 일부를 검증데이터로 사용\n",
    "- 학습데이터: parameter 정하기 위해, 검증데이터: hyperparameter 정하기 위해 사용\n",
    "- hyperparameter 결정하는데 학습/평가데이터만 존재한다면 평가데이터에 의해 하이퍼파라미터 결정되니까 안됨 (평가데이터는 오직 모형의 성능을 평가하는 목적으로만 사용)"
   ]
  },
  {
   "cell_type": "markdown",
   "id": "6dc61032",
   "metadata": {},
   "source": [
    "- k-fold cross validation..."
   ]
  },
  {
   "cell_type": "markdown",
   "id": "9ae01582",
   "metadata": {},
   "source": [
    "# 파이프라인\n",
    "\n",
    "- 데이터 전처리(스케일링 등)와 학습 모형을 연결해 코드를 간결화할 수 있음"
   ]
  },
  {
   "cell_type": "markdown",
   "id": "c9065f03",
   "metadata": {},
   "source": [
    "##### 파이프라인 적용하기 전 학습과정\n",
    "\n",
    "표준화 스케일링>>\n",
    "\n",
    "std_scale = StandardScaler()\n",
    "\n",
    "X_tn_std = std_scale.fit_transform(x_tn)\n",
    "\n",
    "X_te_std = std_scale.transform(X_te)\n",
    "\n",
    "\n",
    "학습>>\n",
    "\n",
    "clf_linear = LinearRegression\n",
    "\n",
    "clf_linear.fit(X_tn_std, y_tn)"
   ]
  },
  {
   "cell_type": "markdown",
   "id": "8934e032",
   "metadata": {},
   "source": [
    "##### 파이프라인 적용한 코드\n",
    "\n",
    "파이프라인>>\n",
    "\n",
    "linear_pipline = Pipeline([\n",
    "\n",
    "    ('scaler', StandardScaler()),\n",
    "    \n",
    "    ('linear_regression', LinearRegression())\n",
    "    \n",
    "])\n",
    "\n",
    "학습>>\n",
    "\n",
    "linear_pipline.fit(X_tn, y_tn)"
   ]
  },
  {
   "cell_type": "code",
   "execution_count": 4,
   "id": "b2fc75d0",
   "metadata": {},
   "outputs": [
    {
     "data": {
      "text/plain": [
       "29.515137790197596"
      ]
     },
     "execution_count": 4,
     "metadata": {},
     "output_type": "execute_result"
    }
   ],
   "source": [
    "# 파이프라인 사용 전 전체 코드\n",
    "from sklearn import datasets\n",
    "from sklearn.pipeline import Pipeline\n",
    "from sklearn.preprocessing import StandardScaler\n",
    "from sklearn.linear_model import LinearRegression\n",
    "from sklearn.model_selection import train_test_split\n",
    "from sklearn.metrics import mean_squared_error\n",
    "\n",
    "raw_boston = datasets.load_boston()\n",
    "\n",
    "X = raw_boston.data\n",
    "y = raw_boston.target\n",
    "\n",
    "# 데이터 분할\n",
    "X_tn, X_te, y_tn, y_te = train_test_split(X, y, random_state=7)\n",
    "\n",
    "# 표준화 스케일링\n",
    "std_scale = StandardScaler()\n",
    "X_tn_std = std_scale.fit_transform(X_tn)\n",
    "X_te_std = std_scale.transform(X_te)\n",
    "\n",
    "# 학습\n",
    "clf_linear = LinearRegression()\n",
    "clf_linear.fit(X_tn_std, y_tn)\n",
    "\n",
    "# 예측\n",
    "pred_linear = clf_linear.predict(X_te_std)\n",
    "\n",
    "# 평가\n",
    "mean_squared_error(y_te, pred_linear)"
   ]
  },
  {
   "cell_type": "code",
   "execution_count": 6,
   "id": "0fe9a0e2",
   "metadata": {},
   "outputs": [
    {
     "data": {
      "text/plain": [
       "29.515137790197596"
      ]
     },
     "execution_count": 6,
     "metadata": {},
     "output_type": "execute_result"
    }
   ],
   "source": [
    "# 파이프라인 사용 후 전체 코드\n",
    "\n",
    "# 데이터 분할\n",
    "X_tn, X_te, y_tn, y_te = train_test_split(X, y, random_state=7)\n",
    "\n",
    "# 파이프라인\n",
    "linear_pipline = Pipeline([\n",
    "    ('scaler', StandardScaler()),\n",
    "    ('linear_regression', LinearRegression())\n",
    "])\n",
    "\n",
    "# 학습\n",
    "linear_pipline.fit(X_tn, y_tn)\n",
    "\n",
    "# 예측\n",
    "pred_linear = linear_pipline.predict(X_te)\n",
    "\n",
    "# 평가\n",
    "mean_squared_error(y_te, pred_linear)"
   ]
  },
  {
   "cell_type": "markdown",
   "id": "a8fdad19",
   "metadata": {},
   "source": [
    "# 그리드서치 (grid search)\n",
    "\n",
    "- 관심 있는 매개변수들을 대상으로 학습 가능하도록 만드는 방식"
   ]
  },
  {
   "cell_type": "code",
   "execution_count": 8,
   "id": "09921d62",
   "metadata": {},
   "outputs": [
    {
     "name": "stdout",
     "output_type": "stream",
     "text": [
      "{'k': 3}\n",
      "0.9736842105263158\n"
     ]
    }
   ],
   "source": [
    "from sklearn import datasets\n",
    "from sklearn.preprocessing import StandardScaler\n",
    "from sklearn.neighbors import KNeighborsClassifier\n",
    "from sklearn.model_selection import train_test_split\n",
    "\n",
    "from sklearn.metrics import accuracy_score\n",
    "from sklearn.metrics import confusion_matrix\n",
    "from sklearn.metrics import classification_report\n",
    "\n",
    "# 꽃 데이터 불러오기\n",
    "raw_iris = datasets.load_iris()\n",
    "\n",
    "# 피처/타깃\n",
    "X = raw_iris.data\n",
    "y = raw_iris.target\n",
    "\n",
    "# 데이터 분할\n",
    "X_tn, X_te, y_tn, y_te = train_test_split(X, y, random_state=0)\n",
    "\n",
    "# 표준화 스케일링\n",
    "std_scale = StandardScaler()\n",
    "std_scale.fit(X_tn)\n",
    "X_tn_std = std_scale.transform(X_tn)\n",
    "X_te_std = std_scale.transform(X_te)\n",
    "\n",
    "# 그리드 서치\n",
    "best_accuracy = 0 # 가장 높은 정확도 나타내는 best_accuracy라는 변수 초기화\n",
    " \n",
    "for k in [1, 2, 3, 4, 5, 6, 7, 8, 9, 10]: # 관심있는 하이퍼파라미터의 범위 정해 반복문 수행\n",
    "    clf_knn = KNeighborsClassifier(n_neighbors=k) # 해당 k값 적용한 KNN 실행\n",
    "    clf_knn.fit(X_tn_std, y_tn) # 학습\n",
    "    knn_pred = clf_knn.predict(X_te_std) # 예측\n",
    "    accuracy = accuracy_score(y_te, knn_pred) # 평가(정확도)\n",
    "    if accuracy > best_accuracy:\n",
    "        best_accuracy = accuracy # best_accuracy 갱신\n",
    "        final_k = {'k': k}\n",
    "        \n",
    "print(final_k)\n",
    "print(accuracy)"
   ]
  },
  {
   "cell_type": "markdown",
   "id": "73728f00",
   "metadata": {},
   "source": [
    "# 손실 함수와 비용 함수\n",
    "\n",
    "### 손실함수와 비용함수의 개념\n",
    "\n",
    "- 손실함수 (loss function)\n",
    "> - 생성한 모형이 실젯값과 얼마나 차이가 나는지 (손실 정도를 수치로 나타냄)\n",
    "> - 각 데이터 포인트에 대해 차이 나타냄\n",
    "- 비용함수 (cost function)\n",
    "> - 전체 데이터셋을 대상으로 하는 손실 나타냄"
   ]
  },
  {
   "cell_type": "markdown",
   "id": "41bc6ded",
   "metadata": {},
   "source": [
    "#### L1 손실함수 (Lasso)\n",
    "\n",
    "- 실젯값과 예측값 차이에 기댓값을 취한 것\n",
    "- 실젯값과 예측값의 차이를 줄이는 것이 학습 목적\n",
    "- 관련된 비용함수: MAE (이상치와 상관 없이 안정적)\n",
    "\n",
    "#### L2 손실함수 (Ridge)\n",
    "\n",
    "- 실젯값과 예측값의 차이에 제곱을 취한 것\n",
    "- 관련된 비용함수: MSE (이상치에 민감), RMSE (이상치와 상관없이 안정적)"
   ]
  },
  {
   "cell_type": "markdown",
   "id": "f4546d2b",
   "metadata": {},
   "source": [
    "### 엔트로피 (entropy)\n",
    "손실함수\n",
    "\n",
    "#### 엔트로피 (Entropy)\n",
    "- 정보이론에서 사용\n",
    "- 확률 변수의 불확실성 정도를 측정하기 위해 사용\n",
    "- 의사 결정 나무에서 주로 사용\n",
    "- 하나의 분포를 대상으로\n",
    "\n",
    "#### 크로스 엔트로피 (Cross Entropy)\n",
    "- 두 분포를 대상으로 엔트로피를 측정해 두 분포 간의 차이 계산\n",
    "- P(x): 실제 모형의 분포, Q(x): 추정 모형의 분포\n",
    "\n",
    "#### Kullback-Leibler Divergence (KLD)\n",
    "- 상대적 엔트로피(relative entropy)"
   ]
  },
  {
   "cell_type": "markdown",
   "id": "f46e9395",
   "metadata": {},
   "source": [
    "### Negative Log Likelihood (NLL)\n",
    "손실함수\n",
    "\n",
    "로그 가능도 함수를 최대화 하는 것은 크로스-엔트로피를 최소화하는 것과 같음\n",
    "-> 로그 가능도 함수르르 최대화 하는 파라미터를 찾는 문제는 CE를 최소화하는 파라미터를 찾는 문제와 동일하므로 NLL을 손실함수로 사용할 수 있음"
   ]
  },
  {
   "cell_type": "markdown",
   "id": "d2fe2e59",
   "metadata": {},
   "source": [
    "# 모형 성능 평가"
   ]
  },
  {
   "cell_type": "markdown",
   "id": "8c78afac",
   "metadata": {},
   "source": [
    "### 모형 성능 평가에 필요한 개념\n",
    "\n",
    "- 정밀도(Precision), 리콜(Recall)=민감도(Sensitivity), 특이도(Specificity), FPR, 정확도(accuracy), 에러율(Error Rate), ROC 커브(Receiver Operating Characteristic)"
   ]
  },
  {
   "cell_type": "markdown",
   "id": "1ef0042b",
   "metadata": {},
   "source": [
    "### 분류 문제에서의 성능평가 (Classification Problem)\n",
    "\n",
    "- 지시함수(indicator function)"
   ]
  },
  {
   "cell_type": "code",
   "execution_count": 9,
   "id": "a817c43f",
   "metadata": {},
   "outputs": [
    {
     "name": "stdout",
     "output_type": "stream",
     "text": [
      "0.5\n",
      "2\n"
     ]
    }
   ],
   "source": [
    "# 정확도 측정하기 위해 accuracy_score 함수 사용 (normalize=True가 디폴트, 1에 가까울 수록 정확도 높다는 의미)\n",
    "from sklearn.metrics import accuracy_score\n",
    "\n",
    "y_pred = [0, 2, 1, 3]\n",
    "y_true = [0, 1, 2, 3]\n",
    "\n",
    "# 정확도\n",
    "print(accuracy_score(y_true, y_pred))\n",
    "# normalize=False 사용하면 0부터 1 사잇값이 아닌 예측값과 실젯값과 일치하는 빈도수 출력\n",
    "print(accuracy_score(y_true, y_pred, normalize=False))"
   ]
  },
  {
   "cell_type": "markdown",
   "id": "b28a6a32",
   "metadata": {},
   "source": [
    "##### F1 score\n",
    "- precision과 recall의 조화 평균\n",
    "- 0부터 1 사이 값을 가지며, 1에 가까울수록 높은 성능 나타냄"
   ]
  },
  {
   "cell_type": "markdown",
   "id": "20edd1d8",
   "metadata": {},
   "source": [
    "##### Confusion Matrix"
   ]
  },
  {
   "cell_type": "code",
   "execution_count": 10,
   "id": "9dc6ba80",
   "metadata": {},
   "outputs": [
    {
     "data": {
      "text/plain": [
       "array([[2, 0, 0],\n",
       "       [0, 0, 1],\n",
       "       [1, 0, 2]], dtype=int64)"
      ]
     },
     "execution_count": 10,
     "metadata": {},
     "output_type": "execute_result"
    }
   ],
   "source": [
    "from sklearn.metrics import confusion_matrix\n",
    "y_true = [2, 0, 2, 2, 0, 1]\n",
    "y_pred = [0, 0, 2, 2, 0, 2]\n",
    "confusion_matrix(y_true, y_pred)"
   ]
  },
  {
   "cell_type": "markdown",
   "id": "0844e1be",
   "metadata": {},
   "source": [
    "위에서 부터 차례로 클래스 0, 1, 2를 의미하고 행렬의 행은 실젯값을 의미하며 열은 예측값을 의미함"
   ]
  },
  {
   "cell_type": "markdown",
   "id": "9fb171d1",
   "metadata": {},
   "source": [
    "##### Classification Report\n",
    "\n",
    "여러 성능 점수를 한 번에 확인할 수 있음\n",
    "\n",
    "- accuracy: 전체 정확도\n",
    "- macro avg: 라벨별 가중치 부여하지 않은 평균값\n",
    "- weighted avg: support-weighted된 평균값\n",
    "- support: 실젯값(y_true)의 클래스별 데이터 개수"
   ]
  },
  {
   "cell_type": "code",
   "execution_count": 12,
   "id": "a6fe9c94",
   "metadata": {},
   "outputs": [
    {
     "name": "stdout",
     "output_type": "stream",
     "text": [
      "              precision    recall  f1-score   support\n",
      "\n",
      "     class 0       0.67      1.00      0.80         2\n",
      "     class 1       0.00      0.00      0.00         1\n",
      "     class 2       1.00      0.50      0.67         2\n",
      "\n",
      "    accuracy                           0.60         5\n",
      "   macro avg       0.56      0.50      0.49         5\n",
      "weighted avg       0.67      0.60      0.59         5\n",
      "\n"
     ]
    }
   ],
   "source": [
    "from sklearn.metrics import classification_report\n",
    "y_true = [0, 1, 2, 2, 0]\n",
    "y_pred = [0, 0, 2, 1, 0]\n",
    "target_names = ['class 0', 'class 1', 'class 2']\n",
    "print(classification_report(y_true, y_pred, target_names=target_names))"
   ]
  },
  {
   "cell_type": "markdown",
   "id": "5302fa34",
   "metadata": {},
   "source": [
    "### 회귀 문제에서의 성능 평가 (Regression)"
   ]
  },
  {
   "cell_type": "markdown",
   "id": "7ae9f7e7",
   "metadata": {},
   "source": [
    "##### Mean Absolute Error\n",
    "- 예측값과 실젯값의 차이의 절댓값의 평균"
   ]
  },
  {
   "cell_type": "code",
   "execution_count": 15,
   "id": "c774fb24",
   "metadata": {},
   "outputs": [
    {
     "name": "stdout",
     "output_type": "stream",
     "text": [
      "0.5\n"
     ]
    }
   ],
   "source": [
    "from sklearn.metrics import mean_absolute_error\n",
    "y_true = [3, -0.5, 2, 7]\n",
    "y_pred = [2.5, 0.0, 2, 8]\n",
    "print(mean_absolute_error(y_true, y_pred))"
   ]
  },
  {
   "cell_type": "markdown",
   "id": "f74ec18d",
   "metadata": {},
   "source": [
    "##### Mean Squared Error\n",
    "- 오차 제곱합. 오차의 제곱합의 평균"
   ]
  },
  {
   "cell_type": "code",
   "execution_count": 16,
   "id": "5b92451a",
   "metadata": {},
   "outputs": [
    {
     "name": "stdout",
     "output_type": "stream",
     "text": [
      "0.375\n"
     ]
    }
   ],
   "source": [
    "from sklearn.metrics import mean_squared_error\n",
    "y_true = [3, -0.5, 2, 7]\n",
    "y_pred = [2.5, 0.0, 2, 8]\n",
    "print(mean_squared_error(y_true, y_pred))"
   ]
  },
  {
   "cell_type": "markdown",
   "id": "e8b3fc20",
   "metadata": {},
   "source": [
    "##### R2 score"
   ]
  },
  {
   "cell_type": "code",
   "execution_count": 17,
   "id": "f44a1666",
   "metadata": {},
   "outputs": [
    {
     "name": "stdout",
     "output_type": "stream",
     "text": [
      "0.9486081370449679\n"
     ]
    }
   ],
   "source": [
    "from sklearn.metrics import r2_score\n",
    "y_true = [3, -0.5, 2, 7]\n",
    "y_pred = [2.5, 0.0, 2, 8]\n",
    "print(r2_score(y_true, y_pred))"
   ]
  },
  {
   "cell_type": "markdown",
   "id": "a8e27a03",
   "metadata": {},
   "source": [
    "### 군집 문제에서의 성능 평가 (clustering)\n",
    "- 비지도학습"
   ]
  },
  {
   "cell_type": "markdown",
   "id": "6a1c24dd",
   "metadata": {},
   "source": [
    "##### 실루엣스코어 (silhouette score)\n",
    "- 서로 다른 군집이 얼마나 잘 분리되는지를 나타내는 지표\n",
    "- 같은 군집의 데이터는 가까운 거리에 뭉쳐 있고, 다른 군집의 데이터끼리는 멀리 떨어져 있을 수록 높은 점수"
   ]
  },
  {
   "cell_type": "code",
   "execution_count": 18,
   "id": "1384f468",
   "metadata": {},
   "outputs": [
    {
     "name": "stdout",
     "output_type": "stream",
     "text": [
      "0.5789497702625118\n"
     ]
    }
   ],
   "source": [
    "from sklearn.metrics import silhouette_score\n",
    "X = [[1, 2], [4, 5], [2, 1], [6, 7], [2, 3]] # 피처 2개로 구성된 데이터 5개\n",
    "labels = [0, 1, 0, 1, 0] # 해당 피처의 클래스 설정\n",
    "sil_score = silhouette_score(X, labels)\n",
    "print(sil_score)"
   ]
  },
  {
   "cell_type": "code",
   "execution_count": null,
   "id": "1c04d41a",
   "metadata": {},
   "outputs": [],
   "source": []
  }
 ],
 "metadata": {
  "kernelspec": {
   "display_name": "Python 3 (ipykernel)",
   "language": "python",
   "name": "python3"
  },
  "language_info": {
   "codemirror_mode": {
    "name": "ipython",
    "version": 3
   },
   "file_extension": ".py",
   "mimetype": "text/x-python",
   "name": "python",
   "nbconvert_exporter": "python",
   "pygments_lexer": "ipython3",
   "version": "3.9.7"
  }
 },
 "nbformat": 4,
 "nbformat_minor": 5
}
